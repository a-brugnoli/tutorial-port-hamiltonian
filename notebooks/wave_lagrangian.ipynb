{
  "cells": [
    {
      "cell_type": "markdown",
      "metadata": {},
      "source": [
        "# Dynamic tension of a 1D rod: Lagrangian and Hamiltonian formulations (with Homogeneous bcs)\n",
        "We are going to solve the propagation of lungitudinal waves using different formulations showing equivalences and differences between them.\n",
        "The 1D wave equation is given by:\n",
        "$$ \\rho A \\partial_{tt} u = \\partial_x (EA \\partial_x u), \\qquad x \\in \\Omega = [0, L], \\quad t \\in [0, T_{\\mathrm{end}}].$$\n",
        "where $u$ is the displacement, $\\rho$ the density, $A$ the cross-sectional area and $E$ the Young's modulus."
      ]
    },
    {
      "cell_type": "code",
      "execution_count": null,
      "metadata": {},
      "outputs": [],
      "source": [
        "import numpy as np\n",
        "from src.fem import mass_matrix_lagrange, stiffness_matrix_lagrange\n",
        "from src.time_integration import newmark, stormer_verlet, implicit_midpoint\n",
        "import scipy.sparse as scsp\n",
        "import scipy.sparse.linalg as sla"
      ]
    },
    {
      "cell_type": "markdown",
      "metadata": {},
      "source": [
        "## Problem Setup\n",
        "We define the problem parameters and discretize the domain."
      ]
    },
    {
      "cell_type": "code",
      "execution_count": null,
      "metadata": {},
      "outputs": [],
      "source": [
        "# Parameters\n",
        "length = 1  # Length of the domain (m)\n",
        "cross_section = 1  # Cross section area (m^2)\n",
        "density = 1  # Density of the fluid (kg/m^3)\n",
        "young_modulus = 1 # Young modulus (N/m^2)\n",
        "\n",
        "T_end = 10  # Total time\n",
        "n_elements = 50  # Number of spatial elements\n",
        "\n",
        "n_nodes = n_elements + 1\n",
        "# Derived parameters\n",
        "mesh_size = length/ n_elements  # Spatial step size\n",
        "density_unit_length = density * cross_section\n",
        "axial_stiffness = young_modulus * cross_section\n",
        "\n",
        "# Spatial grid\n",
        "coordinates = np.linspace(0, length, n_elements+1)\n",
        "\n",
        "# Initial conditions\n",
        "q_at_0 = np.sin(2*np.pi * coordinates/length)  # Initial displacement\n",
        "v_at_0 = np.zeros_like(coordinates)  # Initial velocity"
      ]
    },
    {
      "cell_type": "markdown",
      "metadata": {},
      "source": [
        "##  Construction mass and stiffness matrices and choice of the time step\n",
        "\n",
        "The wave propagation speed is given by:\n",
        "$$ c = \\sqrt{\\frac{E}{\\rho}}.$$\n",
        "\n",
        "One may think that it suffices to choose $\\Delta t \\le L/c$ to obtain a stable scheme but this is not the case. For the explicit Newmark integrator ($\\gamma = \\frac{1}{2}, \\; \\beta = 0$), the maximum allowable time step is given by \n",
        "\n",
        "$$ dt_\\mathrm{max} = \\frac{2}{\\omega_{\\mathrm{max}}}$$\n",
        "\n",
        "where $\\omega_{\\mathrm{max}}$ is the maximum eigenvalue of the generalized eigenproblem:\n",
        "\n",
        "$$\\omega^2 \\mathbf{M} \\bm{\\psi} = \\mathbf{K} \\bm{\\psi}.$$\n",
        "\n",
        "Typically a conservative coefficient is introduced $\\alpha_{\\mathrm{CFL}} = 0.9$:\n",
        "$$ dt = \\alpha_{\\mathrm{CFL}} \\frac{2}{\\omega_{\\mathrm{max}}}$$\n"
      ]
    },
    {
      "cell_type": "code",
      "execution_count": null,
      "metadata": {},
      "outputs": [],
      "source": [
        "M = mass_matrix_lagrange(coordinates, density_unit_length)\n",
        "K = stiffness_matrix_lagrange(coordinates, axial_stiffness)\n",
        "\n",
        "# Stability condition for explicit scheme\n",
        "wave_speed = np.sqrt(young_modulus/density)\n",
        "\n",
        "# Time step based on the wave speed\n",
        "dt_wave = mesh_size / wave_speed\n",
        "eigenvalues, _ = sla.eigs(K, M=M, k=1, which='LM')\n",
        "\n",
        "# Time step based on the highest eigenvalue\n",
        "omega_max = np.sqrt(max(eigenvalues.real))\n",
        "dt_omega = 2/omega_max\n",
        "\n",
        "print(f\"Time step based on the wave speed: {dt_wave:.3f} [s]\")\n",
        "print(f\"Time step based on the max frequency: {dt_omega:.3f} [s]\")\n",
        "\n",
        "time_step = 0.9 * dt_omega\n",
        "\n",
        "# Temporal grid\n",
        "n_times = int(np.ceil(T_end/time_step))\n",
        "time_instants = np.linspace(0, T_end, n_times+1)\n"
      ]
    },
    {
      "cell_type": "markdown",
      "metadata": {},
      "source": [
        "## Simulation using the Lagrangian form\n",
        "\n",
        "The newmark integrator takes the following form\n",
        "\\begin{equation*}\n",
        "\\begin{aligned}\n",
        "    \\mathbf{M}_{\\rho} \\mathbf{a}^{n+1} + \\mathbf{K}\\mathbf{q}^{n+1} &= 0,  \\\\\n",
        "        \\frac{\\mathbf{v}^{n+1} - \\mathbf{v}^n}{\\Delta t} &=  \\gamma  \\mathbf{a}^{n+1} + (1 - \\gamma)  \\mathbf{a}^{n},  \\\\\n",
        "        \\frac{\\mathbf{q}^{n+1} - \\mathbf{q}^n}{\\Delta t}&= \\mathbf{v}^n + \\frac{\\Delta t}{2}(2 \\beta \\mathbf{a}^{n+1} + (1-2\\beta) \\mathbf{a}^n).\n",
        "\\end{aligned}\n",
        "\\end{equation*}"
      ]
    },
    {
      "cell_type": "code",
      "execution_count": null,
      "metadata": {},
      "outputs": [],
      "source": [
        "\n",
        "# # Run the explicit scheme\n",
        "q_newmark_exp, v_newmark_exp = newmark(q_at_0, v_at_0, M, K,\\\n",
        "                            time_step, n_times, gamma=0.5, beta=0)\n",
        "\n",
        "# Run the implicit scheme\n",
        "q_newmark_imp, v_newmark_imp = newmark(q_at_0, v_at_0, M, K,\\\n",
        "                            time_step, n_times, gamma=0.5, beta=0.25)\n"
      ]
    },
    {
      "cell_type": "markdown",
      "metadata": {},
      "source": [
        "## Simulation using the Hamiltonian form\n",
        "\n",
        "The hamiltonian form of the problem is \n",
        "\n",
        "$$\n",
        "\\begin{pmatrix}\n",
        "\\dot{\\mathbf{q}} \\\\\n",
        "\\dot{\\mathbf{q}} \\\\\n",
        "\\end{pmatrix} = \n",
        "\\begin{bmatrix}\n",
        "0 & \\mathbf{I} \\\\\n",
        "-\\mathbf{I} & 0\n",
        "\\end{bmatrix}\n",
        "\\begin{pmatrix}\n",
        "\\partial_{\\mathbf{q}} H \\\\\n",
        "\\partial_{\\mathbf{q}} H \\\\\n",
        "\\end{pmatrix}, \\qquad \n",
        "H = \\frac{1}{2} \\mathbf{p}^\\top \\mathbf{M}^{-1} \\mathbf{p} + \\frac{1}{2} \\mathbf{q}^\\top \\mathbf{K} \\mathbf{q}.\n",
        "$$\n",
        "\n",
        "Since the mass matrix is sparse and in real problems very large, we are going with the velocity instead of the linear momentum\n",
        "\n",
        "$$\n",
        "\\begin{bmatrix}\n",
        "\\mathbf{M} & 0\\\\\n",
        "0 & \\mathbf{I}\n",
        "\\end{bmatrix}\n",
        "\\begin{pmatrix}\n",
        "\\dot{\\mathbf{q}} \\\\\n",
        "\\dot{\\mathbf{v}} \\\\\n",
        "\\end{pmatrix} = \n",
        "\\begin{bmatrix}\n",
        "0 & \\mathbf{I} \\\\\n",
        "-\\mathbf{I} & 0\n",
        "\\end{bmatrix}\n",
        "\\begin{pmatrix}\n",
        "\\mathbf{K} \\mathbf{q} \\\\\n",
        "\\mathbf{v} \\\\\n",
        "\\end{pmatrix}, \\qquad \n",
        "H = \\frac{1}{2} \\mathbf{v}^\\top \\mathbf{M} \\mathbf{v} + \\frac{1}{2} \\mathbf{q}^\\top \\mathbf{K} \\mathbf{q}.\n",
        "$$\n",
        "A general syntax is used for the stormer-verlet integrator."
      ]
    },
    {
      "cell_type": "code",
      "execution_count": null,
      "metadata": {},
      "outputs": [],
      "source": [
        "sparse_eye = scsp.identity(n_nodes)\n",
        "q_stverlet, v_stverlet = stormer_verlet(q_at_0, v_at_0, M, sparse_eye, - K, \\\n",
        "               time_step, n_times)\n",
        "\n",
        "x_at_0 = np.concatenate((q_at_0, v_at_0))\n",
        "\n",
        "M_aug = scsp.block_diag([scsp.identity(n_nodes), M])\n",
        "A_aug = scsp.vstack([scsp.csr_matrix((n_nodes, n_nodes)), sparse_eye,\n",
        "                        - K, scsp.csr_matrix((n_nodes, n_nodes))])\n",
        "\n",
        "x_imp_midpoint = implicit_midpoint(x_at_0, M_aug, A_aug, time_step, n_times)\n",
        "\n",
        "q_imp_midpoint = x_imp_midpoint[:n_nodes]\n",
        "v_imp_midpoint = x_imp_midpoint[n_nodes:]"
      ]
    },
    {
      "cell_type": "markdown",
      "metadata": {},
      "source": [
        "## Visualization\n",
        "We import the necessary librairies"
      ]
    },
    {
      "cell_type": "code",
      "execution_count": null,
      "metadata": {},
      "outputs": [],
      "source": [
        "# Plot and animate results\n",
        "import matplotlib.pyplot as plt\n",
        "import matplotlib.animation as animation\n",
        "from src.plot_config import configure_matplotlib\n",
        "configure_matplotlib()\n",
        "\n",
        "step_animation = 20\n",
        "interval_frames = time_step * step_animation * 1000"
      ]
    },
    {
      "cell_type": "markdown",
      "metadata": {},
      "source": [
        "First we compare the Explicit Newmark with Stormer-Verlet and the Implicit Newmark with the implicit midpoint"
      ]
    },
    {
      "cell_type": "code",
      "execution_count": null,
      "metadata": {},
      "outputs": [],
      "source": [
        "fig, ax = plt.subplots()\n",
        "line1, = ax.plot(coordinates, abs(q_newmark_exp[0, :] - q_stverlet[0, :]))\n",
        "line2, = ax.plot(coordinates, abs(q_newmark_imp[0, :] - q_imp_midpoint[0, :]))\n",
        "ax.set_xlim(0, length)\n",
        "ax.set_xlabel('$x$')\n",
        "ax.set_ylabel('$q$')\n",
        "ax.set_title('Displacement')\n",
        "ax.legend()\n",
        "ax.grid(True)\n",
        "plt.close()\n",
        "\n",
        "def update(ii):\n",
        "    line1.set_ydata(abs(q_newmark_exp[ii, :] - q_stverlet[ii, :]))\n",
        "    line2.set_ydata(abs(q_newmark_imp[ii, :] - q_imp_midpoint[ii, :]))\n",
        "    ax.set_title(f\"Displacement $t= {ii*time_step:.1f}$ [s]\")\n",
        "    return line1, line2,\n",
        "\n",
        "anim = animation.FuncAnimation(fig, update, frames=range(0, n_times, step_animation), \\\n",
        "                               blit=True, interval=interval_frames)"
      ]
    },
    {
      "cell_type": "code",
      "execution_count": null,
      "metadata": {},
      "outputs": [],
      "source": [
        "from IPython.display import HTML\n",
        "HTML(anim.to_html5_video())"
      ]
    },
    {
      "cell_type": "code",
      "execution_count": null,
      "metadata": {},
      "outputs": [],
      "source": [
        "fig, ax = plt.subplots()\n",
        "line1, = ax.plot(coordinates, q_newmark_exp[0, :], label='Explicit Newmark')\n",
        "line2, = ax.plot(coordinates, q_newmark_imp[0, :], label='Implicit Newmark')\n",
        "\n",
        "# line2, = ax.plot(coordinates, q_newmark_imp[0, :], label='Implicit Newmark')\n",
        "ax.set_xlim(0, length)\n",
        "ax.set_ylim(-1.2, 1.2)\n",
        "ax.set_xlabel('$x$')\n",
        "ax.set_ylabel('$q$')\n",
        "ax.set_title('Displacement')\n",
        "ax.legend()\n",
        "ax.grid(True)\n",
        "plt.close()\n",
        "\n",
        "def update(ii):\n",
        "    line1.set_ydata(q_newmark_exp[ii, :])\n",
        "    line2.set_ydata(q_newmark_imp[ii, :])\n",
        "    ax.set_title(f\"Displacement $t= {ii*time_step:.1f}$ [s]\")\n",
        "    return line1, line2,\n",
        "\n",
        "\n",
        "anim = animation.FuncAnimation(fig, update, frames=range(0, n_times, step_animation), \\\n",
        "                               blit=True, interval=interval_frames)\n"
      ]
    },
    {
      "cell_type": "code",
      "execution_count": null,
      "metadata": {},
      "outputs": [],
      "source": [
        "from IPython.display import HTML\n",
        "HTML(anim.to_html5_video())"
      ]
    },
    {
      "cell_type": "markdown",
      "metadata": {},
      "source": [
        "Plot of the energy for the implicit and explicit scheme"
      ]
    },
    {
      "cell_type": "code",
      "execution_count": null,
      "metadata": {},
      "outputs": [],
      "source": [
        "energy_explicit = np.zeros(n_times+1)\n",
        "energy_implicit = np.zeros(n_times+1)\n",
        "\n",
        "for ii in range(1+n_times):\n",
        "    energy_explicit[ii] = 0.5 * np.dot(v_newmark_exp[ii], M @ v_newmark_exp[ii]) + \\\n",
        "                          0.5 * np.dot(q_newmark_exp[ii], K @ q_newmark_exp[ii])\n",
        "    \n",
        "    energy_implicit[ii] = 0.5 * np.dot(v_newmark_imp[ii], M @ v_newmark_imp[ii]) + \\\n",
        "                          0.5 * np.dot(q_newmark_imp[ii], K @ q_newmark_imp[ii])\n",
        "\n",
        "\n",
        "# fig, ax = plt.subplots()\n",
        "# ax.plot(time_instants, energy_explicit, label='Energy explicit')\n",
        "# ax.plot(time_instants, energy_implicit, label='Energy implicit')\n",
        "# ax.set_xlabel('$t$')\n",
        "# ax.set_ylabel('$H$')\n",
        "# ax.set_title('Energy')\n",
        "# ax.legend()\n",
        "# plt.show()\n",
        "\n",
        "fig, ax = plt.subplots()\n",
        "ax.plot(time_instants, energy_explicit, label='Energy explicit')\n",
        "ax.set_xlabel('$t$')\n",
        "ax.set_ylabel('$H$')\n",
        "ax.set_title('Energy')\n",
        "ax.legend()\n",
        "plt.show()\n",
        "\n",
        "fig, ax = plt.subplots()\n",
        "ax.plot(time_instants, energy_implicit, label='Energy implicit')\n",
        "ax.set_xlabel('$t$')\n",
        "ax.set_ylabel('$H$')\n",
        "ax.set_title('Energy')\n",
        "ax.legend()\n",
        "plt.show()"
      ]
    },
    {
      "cell_type": "code",
      "execution_count": null,
      "metadata": {},
      "outputs": [],
      "source": []
    }
  ],
  "metadata": {
    "kernelspec": {
      "display_name": "Python 3",
      "language": "python",
      "name": "python3"
    },
    "language_info": {
      "codemirror_mode": {
        "name": "ipython",
        "version": 3
      },
      "file_extension": ".py",
      "mimetype": "text/x-python",
      "name": "python",
      "nbconvert_exporter": "python",
      "pygments_lexer": "ipython3",
      "version": "3.11.8"
    }
  },
  "nbformat": 4,
  "nbformat_minor": 4
}
