{
  "cells": [
    {
      "cell_type": "markdown",
      "metadata": {},
      "source": [
        "# Dynamic tension of a 1D rod: Lagrangian and Hamiltonian formulations (with Homogeneous bcs)\n",
        "We are going to solve the propagation of lungitudinal waves using different formulations showing equivalences and differences between them.\n",
        "The 1D wave equation is given by:\n",
        "$$ \n",
        "\\begin{aligned}\n",
        "\\rho A \\partial_{tt} q &= \\partial_x (EA \\partial_x q), \\qquad x \\in \\Omega = [0, L], \\quad t \\in [0, T_{\\mathrm{end}}], \\\\\n",
        "\\partial_x q(0) &= \\partial_x q(L) = 0.\n",
        "\\end{aligned}\n",
        "$$\n",
        "\n",
        "where $q$ is the displacement, $\\rho$ the density, $A$ the cross-sectional area and $E$ the Young's modulus."
      ]
    },
    {
      "cell_type": "code",
      "execution_count": null,
      "metadata": {},
      "outputs": [],
      "source": [
        "import numpy as np\n",
        "import scipy.sparse as scsp\n",
        "import scipy.sparse.linalg as sla\n",
        "from math import pi\n",
        "from src.fem import mass_matrix_lagrange, stiffness_matrix_lagrange, discrete_gradient\n",
        "from src.time_integration import newmark, stormer_verlet, implicit_midpoint\n"
      ]
    },
    {
      "cell_type": "markdown",
      "metadata": {},
      "source": [
        "## Problem Setup\n",
        "We define the problem parameters and discretize the domain."
      ]
    },
    {
      "cell_type": "code",
      "execution_count": 4,
      "metadata": {},
      "outputs": [],
      "source": [
        "# Parameters\n",
        "length = 1  # Length of the domain (m)\n",
        "cross_section = 1  # Cross section area (m^2)\n",
        "density = 1  # Density of the fluid (kg/m^3)\n",
        "young_modulus = 1 # Young modulus (N/m^2)\n",
        "\n",
        "T_end = 10  # Total time\n",
        "n_elements = 30  # Number of spatial elements\n",
        "\n",
        "n_nodes = n_elements + 1\n",
        "# Derived parameters\n",
        "mesh_size = length/ n_elements  # Spatial step size\n",
        "density_unit_length = density * cross_section\n",
        "axial_stiffness = young_modulus * cross_section\n",
        "\n",
        "# Spatial grid\n",
        "coordinates = np.linspace(0, length, n_elements+1)\n",
        "\n",
        "# Initial conditions\n",
        "\n",
        "\n",
        "midpoints_coord = np.zeros(n_elements)\n",
        "\n",
        "for ii in range(n_elements):\n",
        "    midpoints_coord[ii] = 0.5*(coordinates[ii] + coordinates[ii+1])\n",
        "\n",
        "\n",
        "q_0 = lambda x : np.cos(pi * x/length)  # Initial displacement\n",
        "v_0 = lambda x : 0*x  # Initial velocity\n",
        "sigma_0 = lambda x:  - pi / length * axial_stiffness * np.sin(pi*x/length)\n",
        "q_0_lagrange = q_0(coordinates)\n",
        "v_0_lagrange = v_0(coordinates)\n",
        "\n",
        "sigma_0_dg = sigma_0(midpoints_coord)"
      ]
    },
    {
      "cell_type": "markdown",
      "metadata": {},
      "source": [
        "##  Construction mass and stiffness matrices and choice of the time step\n",
        "\n",
        "The wave propagation speed is given by:\n",
        "$$ c = \\sqrt{\\frac{E}{\\rho}}.$$\n",
        "\n",
        "One may think that it suffices to choose $\\Delta t \\le L/c$ to obtain a stable scheme but this is not the case. For the explicit Newmark integrator ($\\gamma = \\frac{1}{2}, \\; \\beta = 0$), the maximum allowable time step is given by \n",
        "\n",
        "$$ dt_\\mathrm{max} = \\frac{2}{\\omega_{\\mathrm{max}}}$$\n",
        "\n",
        "where $\\omega_{\\mathrm{max}}$ is the maximum eigenvalue of the generalized eigenproblem:\n",
        "\n",
        "$$\\omega^2 \\mathbf{M} \\bm{\\psi} = \\mathbf{K} \\bm{\\psi}.$$\n",
        "\n",
        "Typically a conservative coefficient is introduced $\\alpha_{\\mathrm{CFL}} = 0.9$:\n",
        "$$ dt = \\alpha_{\\mathrm{CFL}} \\frac{2}{\\omega_{\\mathrm{max}}}$$\n"
      ]
    },
    {
      "cell_type": "code",
      "execution_count": 5,
      "metadata": {},
      "outputs": [
        {
          "name": "stdout",
          "output_type": "stream",
          "text": [
            "Time step based on the wave speed: 0.033 [s]\n",
            "Time step based on the max frequency: 0.019 [s]\n"
          ]
        }
      ],
      "source": [
        "M = mass_matrix_lagrange(coordinates, density_unit_length)\n",
        "K = stiffness_matrix_lagrange(coordinates, axial_stiffness)\n",
        "D = discrete_gradient(coordinates)\n",
        "\n",
        "# Stability condition for explicit scheme\n",
        "wave_speed = np.sqrt(young_modulus/density)\n",
        "\n",
        "# Time step based on the wave speed\n",
        "dt_wave = mesh_size / wave_speed\n",
        "eigenvalues, _ = sla.eigs(K, M=M, k=1, which='LM')\n",
        "\n",
        "# Time step based on the highest eigenvalue\n",
        "omega_max = np.sqrt(max(eigenvalues.real))\n",
        "dt_omega = 2/omega_max\n",
        "\n",
        "print(f\"Time step based on the wave speed: {dt_wave:.3f} [s]\")\n",
        "print(f\"Time step based on the max frequency: {dt_omega:.3f} [s]\")\n",
        "\n",
        "time_step = 0.5 * dt_omega\n",
        "\n",
        "# Temporal grid\n",
        "n_times = int(np.ceil(T_end/time_step))\n",
        "time_instants = np.linspace(0, T_end, n_times+1)\n"
      ]
    },
    {
      "cell_type": "markdown",
      "metadata": {},
      "source": [
        "## Simulation using the Lagrangian form\n",
        "\n",
        "The newmark integrator takes the following form\n",
        "\\begin{equation*}\n",
        "\\begin{aligned}\n",
        "    \\mathbf{M}_{\\rho} \\mathbf{a}^{n+1} + \\mathbf{K}\\mathbf{q}^{n+1} &= 0,  \\\\\n",
        "        \\frac{\\mathbf{v}^{n+1} - \\mathbf{v}^n}{\\Delta t} &=  \\gamma  \\mathbf{a}^{n+1} + (1 - \\gamma)  \\mathbf{a}^{n},  \\\\\n",
        "        \\frac{\\mathbf{q}^{n+1} - \\mathbf{q}^n}{\\Delta t}&= \\mathbf{v}^n + \\frac{\\Delta t}{2}(2 \\beta \\mathbf{a}^{n+1} + (1-2\\beta) \\mathbf{a}^n).\n",
        "\\end{aligned}\n",
        "\\end{equation*}"
      ]
    },
    {
      "cell_type": "code",
      "execution_count": 6,
      "metadata": {},
      "outputs": [],
      "source": [
        "\n",
        "# # Run the explicit scheme\n",
        "q_newmark_exp, v_newmark_exp = newmark(q_0_lagrange, v_0_lagrange, M, K,\\\n",
        "                            time_step, n_times, gamma=0.5, beta=0)\n",
        "\n",
        "# Run the implicit scheme\n",
        "q_newmark_imp, v_newmark_imp = newmark(q_0_lagrange, v_0_lagrange, M, K,\\\n",
        "                            time_step, n_times, gamma=0.5, beta=0.25)\n"
      ]
    },
    {
      "cell_type": "markdown",
      "metadata": {},
      "source": [
        "## Simulation using the Hamiltonian form\n",
        "\n",
        "The hamiltonian form of the problem is \n",
        "\n",
        "$$\n",
        "\\begin{pmatrix}\n",
        "\\dot{\\mathbf{q}} \\\\\n",
        "\\dot{\\mathbf{q}} \\\\\n",
        "\\end{pmatrix} = \n",
        "\\begin{bmatrix}\n",
        "0 & \\mathbf{I} \\\\\n",
        "-\\mathbf{I} & 0\n",
        "\\end{bmatrix}\n",
        "\\begin{pmatrix}\n",
        "\\partial_{\\mathbf{q}} H \\\\\n",
        "\\partial_{\\mathbf{q}} H \\\\\n",
        "\\end{pmatrix}, \\qquad \n",
        "H = \\frac{1}{2} \\mathbf{p}^\\top \\mathbf{M}^{-1} \\mathbf{p} + \\frac{1}{2} \\mathbf{q}^\\top \\mathbf{K} \\mathbf{q}.\n",
        "$$\n",
        "\n",
        "Since the mass matrix is sparse and in real problems very large, we are going with the velocity instead of the linear momentum\n",
        "\n",
        "$$\n",
        "\\begin{bmatrix}\n",
        "\\mathbf{I} & 0\\\\\n",
        "0 & \\mathbf{M}_\\rho\n",
        "\\end{bmatrix}\n",
        "\\begin{pmatrix}\n",
        "\\dot{\\mathbf{q}} \\\\\n",
        "\\dot{\\mathbf{v}} \\\\\n",
        "\\end{pmatrix} = \n",
        "\\begin{bmatrix}\n",
        "0 & \\mathbf{I} \\\\\n",
        "-\\mathbf{I} & 0\n",
        "\\end{bmatrix}\n",
        "\\begin{pmatrix}\n",
        "\\mathbf{K} \\mathbf{q} \\\\\n",
        "\\mathbf{v} \\\\\n",
        "\\end{pmatrix}, \\qquad \n",
        "H = \\frac{1}{2} \\mathbf{v}^\\top \\mathbf{M} \\mathbf{v} + \\frac{1}{2} \\mathbf{q}^\\top \\mathbf{K} \\mathbf{q}.\n",
        "$$\n",
        "A general syntax is used for the stormer-verlet integrator."
      ]
    },
    {
      "cell_type": "code",
      "execution_count": 7,
      "metadata": {},
      "outputs": [],
      "source": [
        "sparse_eye = scsp.identity(n_nodes)\n",
        "q_stverlet, v_stverlet = stormer_verlet(q_0_lagrange, v_0_lagrange,\\\n",
        "                                    M, sparse_eye, - K, \\\n",
        "                                    time_step, n_times)\n",
        "\n",
        "x_at_0 = np.concatenate((q_0_lagrange, v_0_lagrange))\n",
        "\n",
        "M_aug = scsp.block_diag([scsp.identity(n_nodes), M])\n",
        "\n",
        "row_1 = scsp.hstack([scsp.csr_matrix((n_nodes, n_nodes)), sparse_eye])\n",
        "row_2 = scsp.hstack([- K, scsp.csr_matrix((n_nodes, n_nodes))])\n",
        "A_aug = scsp.vstack([row_1, row_2])\n",
        "\n",
        "x_imp_midpoint = implicit_midpoint(x_at_0, M_aug, A_aug, time_step, n_times)\n",
        "\n",
        "q_imp_midpoint = x_imp_midpoint[:, :n_nodes]\n",
        "v_imp_midpoint = x_imp_midpoint[:, n_nodes:]"
      ]
    },
    {
      "cell_type": "markdown",
      "metadata": {},
      "source": [
        "If instead the port-Hamiltonian form is considered, the system make take two dual forms. The primal one is equivalent to the classical Lagrangian discretization \n",
        "\n",
        "\\begin{equation*}\n",
        "\\begin{bmatrix}\n",
        "\\mathbf{M}_c & 0 \\\\\n",
        "0 & \\mathbf{M}_\\rho\n",
        "\\end{bmatrix}\n",
        "\\begin{pmatrix}\n",
        "\\dot{\\mathbf{s}} \\\\\n",
        "\\dot{\\mathbf{v}}\n",
        "\\end{pmatrix} = \n",
        "\\begin{bmatrix}\n",
        "0 & - \\mathbf{D}^\\top \\\\\n",
        "\\mathbf{D} & 0 \\\\\n",
        "\\end{bmatrix}\n",
        "\\begin{pmatrix}\n",
        "{\\mathbf{s}} \\\\\n",
        "{\\mathbf{v}}\n",
        "\\end{pmatrix}\n",
        "\\end{equation*}\n",
        "\n",
        "In the case $\\mathbf{M}_c$ is block-diagonal (diagonal for degree 0 discontinuous elements).\n",
        "\n",
        "The dual system represents a mixed discretization, where the stress is represented by a continuos filed and the velocity is instead discontinuous\n",
        "\n",
        "\\begin{equation*}\n",
        "\\begin{bmatrix}\n",
        "\\mathbf{M}_c & 0 \\\\\n",
        "0 & \\mathbf{M}_\\rho\n",
        "\\end{bmatrix}\n",
        "\\begin{pmatrix}\n",
        "\\dot{\\mathbf{s}} \\\\\n",
        "\\dot{\\mathbf{v}}\n",
        "\\end{pmatrix} = \n",
        "\\begin{bmatrix}\n",
        "0 & \\mathbf{D} \\\\\n",
        "- \\mathbf{D}^\\top & 0 \\\\\n",
        "\\end{bmatrix}\n",
        "\\begin{pmatrix}\n",
        "{\\mathbf{s}} \\\\\n",
        "{\\mathbf{v}}\n",
        "\\end{pmatrix}\n",
        "\\end{equation*}\n",
        "\n",
        "In the case $\\mathbf{M}_\\rho$ is block-diagonal (diagonal for degree 0 discontinuous elements).\n"
      ]
    },
    {
      "cell_type": "markdown",
      "metadata": {},
      "source": [
        "We can employ the same integrators as before. \n"
      ]
    },
    {
      "cell_type": "code",
      "execution_count": 8,
      "metadata": {},
      "outputs": [],
      "source": [
        "A_1 = axial_stiffness/mesh_size*D\n",
        "\n",
        "sigma_mixed_primal_exp, v_mixed_primal_exp = stormer_verlet(sigma_0_dg, v_0_lagrange, \n",
        "                                                            M, A_1, -D.T, \\\n",
        "                                                            time_step, n_times)\n",
        "\n",
        "sigma_mixed_dual_exp, v_mixed_dual_exp = stormer_verlet(sigma_0_dg, v_0_lagrange, \n",
        "                                                            M, A_1, - D.T,\\\n",
        "                                                            time_step, n_times, method='dual')\n"
      ]
    },
    {
      "cell_type": "markdown",
      "metadata": {},
      "source": [
        "Reconstruction of the displacement via the trapezoidal rule"
      ]
    },
    {
      "cell_type": "code",
      "execution_count": 9,
      "metadata": {},
      "outputs": [],
      "source": [
        "q_mixed_dual_exp = np.zeros((1 + n_times, n_nodes))\n",
        "q_mixed_dual_exp[0, :] = q_0_lagrange\n",
        "\n",
        "q_mixed_primal_exp = np.zeros((1 + n_times, n_nodes))\n",
        "q_mixed_primal_exp[0, :] = q_0_lagrange\n",
        "\n",
        "for ii in range(n_times):\n",
        "    q_mixed_dual_exp[ii+1, :] = q_mixed_dual_exp[ii, :] + 0.5*time_step * (v_mixed_dual_exp[ii, :] + v_mixed_dual_exp[ii+1, :])\n",
        "    q_mixed_primal_exp[ii+1, :] = q_mixed_primal_exp[ii, :] + 0.5*time_step * (v_mixed_primal_exp[ii, :] + v_mixed_primal_exp[ii+1, :])\n"
      ]
    },
    {
      "cell_type": "markdown",
      "metadata": {},
      "source": [
        "## Visualization\n",
        "We import the necessary librairies"
      ]
    },
    {
      "cell_type": "code",
      "execution_count": 10,
      "metadata": {},
      "outputs": [],
      "source": [
        "# Plot and animate results\n",
        "import matplotlib.pyplot as plt\n",
        "import matplotlib.animation as animation\n",
        "from src.plot_config import configure_matplotlib\n",
        "configure_matplotlib()\n",
        "\n",
        "step_animation = 20\n",
        "interval_frames = time_step * step_animation * 1000"
      ]
    },
    {
      "cell_type": "markdown",
      "metadata": {},
      "source": [
        "First we compare the Explicit Newmark with Stormer-Verlet and the Implicit Newmark with the implicit midpoint"
      ]
    },
    {
      "cell_type": "code",
      "execution_count": 23,
      "metadata": {},
      "outputs": [],
      "source": [
        "fig, ax = plt.subplots()\n",
        "line1, = ax.plot(coordinates, q_stverlet[0, :], label='St\\\"ormer Verlet')\n",
        "line2, = ax.plot(coordinates, q_mixed_dual_exp[0, :], label='Exp Mixed')\n",
        "# line3, = ax.plot(coordinates, q_stverlet[0, :], label='Stormer')\n",
        "ax.set_xlim(0, length)\n",
        "ax.set_xlabel('$x$')\n",
        "ax.set_ylabel('$q$')\n",
        "ax.set_title('Displacement')\n",
        "ax.legend()\n",
        "ax.grid(True)\n",
        "plt.close()\n",
        "\n",
        "def update(ii):\n",
        "    line1.set_ydata(q_stverlet[ii, :])\n",
        "    line2.set_ydata(q_mixed_dual_exp[ii, :])\n",
        "    # line3.set_ydata(q_stverlet[ii, :])\n",
        "    ax.set_title(f\"Displacement $t= {ii*time_step:.1f}$ [s]\")\n",
        "    return line1, line2\n",
        "\n",
        "anim = animation.FuncAnimation(fig, update, frames=range(0, n_times, step_animation), \\\n",
        "                               blit=True, interval=interval_frames)\n",
        "anim.save(\"disp_explicit.mp4\", writer=\"ffmpeg\")"
      ]
    },
    {
      "cell_type": "code",
      "execution_count": null,
      "metadata": {},
      "outputs": [],
      "source": [
        "from IPython.display import HTML\n",
        "HTML(anim.to_html5_video())"
      ]
    },
    {
      "cell_type": "code",
      "execution_count": 27,
      "metadata": {},
      "outputs": [
        {
          "name": "stderr",
          "output_type": "stream",
          "text": [
            "No artists with labels found to put in legend.  Note that artists whose label start with an underscore are ignored when legend() is called with no argument.\n"
          ]
        }
      ],
      "source": [
        "fig, ax = plt.subplots()\n",
        "line1, = ax.plot(coordinates, q_stverlet[0, :] - q_newmark_exp[0, :])\n",
        "ax.set_xlim(0, length)\n",
        "ax.set_ylim(-10**(-12), 10**(-12))\n",
        "\n",
        "ax.set_xlabel('$x$')\n",
        "ax.set_ylabel('$q$')\n",
        "ax.set_title('Difference of displacement (explicit)')\n",
        "ax.legend()\n",
        "ax.grid(True)\n",
        "plt.close()\n",
        "\n",
        "def update(ii):\n",
        "    line1.set_ydata(q_stverlet[ii, :] - q_newmark_exp[ii, :])\n",
        "    ax.set_title(f\"Displacement $t= {ii*time_step:.1f}$ [s]\")\n",
        "    return line1, line2\n",
        "\n",
        "anim = animation.FuncAnimation(fig, update, frames=range(0, n_times, step_animation), \\\n",
        "                               blit=True, interval=interval_frames)\n",
        "\n",
        "anim.save(\"diff_disp_explicit.mp4\", writer=\"ffmpeg\")"
      ]
    },
    {
      "cell_type": "code",
      "execution_count": null,
      "metadata": {},
      "outputs": [],
      "source": [
        "from IPython.display import HTML\n",
        "HTML(anim.to_html5_video())"
      ]
    },
    {
      "cell_type": "code",
      "execution_count": null,
      "metadata": {},
      "outputs": [],
      "source": [
        "fig, ax = plt.subplots()\n",
        "line1, = ax.plot(coordinates, q_newmark_exp[0, :], label='Explicit Newmark')\n",
        "line2, = ax.plot(coordinates, q_newmark_imp[0, :], label='Implicit Newmark')\n",
        "\n",
        "# line2, = ax.plot(coordinates, q_newmark_imp[0, :], label='Implicit Newmark')\n",
        "ax.set_xlim(0, length)\n",
        "ax.set_ylim(-1.2, 1.2)\n",
        "ax.set_xlabel('$x$')\n",
        "ax.set_ylabel('$q$')\n",
        "ax.set_title('Displacement')\n",
        "ax.legend()\n",
        "ax.grid(True)\n",
        "plt.close()\n",
        "\n",
        "def update(ii):\n",
        "    line1.set_ydata(q_newmark_exp[ii, :])\n",
        "    line2.set_ydata(q_newmark_imp[ii, :])\n",
        "    ax.set_title(f\"Displacement $t= {ii*time_step:.1f}$ [s]\")\n",
        "    return line1, line2,\n",
        "\n",
        "\n",
        "anim = animation.FuncAnimation(fig, update, frames=range(0, n_times, step_animation), \\\n",
        "                               blit=True, interval=interval_frames)\n"
      ]
    },
    {
      "cell_type": "code",
      "execution_count": null,
      "metadata": {},
      "outputs": [],
      "source": [
        "from IPython.display import HTML\n",
        "HTML(anim.to_html5_video())"
      ]
    },
    {
      "cell_type": "markdown",
      "metadata": {},
      "source": [
        "Plot of the energy for the implicit and explicit scheme"
      ]
    },
    {
      "cell_type": "code",
      "execution_count": null,
      "metadata": {},
      "outputs": [],
      "source": [
        "energy_explicit = np.zeros(n_times+1)\n",
        "energy_implicit = np.zeros(n_times+1)\n",
        "\n",
        "for ii in range(1+n_times):\n",
        "    energy_explicit[ii] = 0.5 * np.dot(v_newmark_exp[ii], M @ v_newmark_exp[ii]) + \\\n",
        "                          0.5 * np.dot(q_newmark_exp[ii], K @ q_newmark_exp[ii])\n",
        "    \n",
        "    energy_implicit[ii] = 0.5 * np.dot(v_newmark_imp[ii], M @ v_newmark_imp[ii]) + \\\n",
        "                          0.5 * np.dot(q_newmark_imp[ii], K @ q_newmark_imp[ii])\n",
        "\n",
        "\n",
        "fig, ax = plt.subplots()\n",
        "ax.plot(time_instants, energy_explicit, label='Energy explicit')\n",
        "ax.plot(time_instants, energy_implicit, label='Energy implicit')\n",
        "ax.set_xlabel('$t$')\n",
        "ax.set_ylabel('$H$')\n",
        "ax.set_title('Energy')\n",
        "ax.legend()\n",
        "plt.show()\n"
      ]
    },
    {
      "cell_type": "code",
      "execution_count": null,
      "metadata": {},
      "outputs": [],
      "source": []
    }
  ],
  "metadata": {
    "kernelspec": {
      "display_name": "Python 3",
      "language": "python",
      "name": "python3"
    },
    "language_info": {
      "codemirror_mode": {
        "name": "ipython",
        "version": 3
      },
      "file_extension": ".py",
      "mimetype": "text/x-python",
      "name": "python",
      "nbconvert_exporter": "python",
      "pygments_lexer": "ipython3",
      "version": "3.11.8"
    }
  },
  "nbformat": 4,
  "nbformat_minor": 4
}
