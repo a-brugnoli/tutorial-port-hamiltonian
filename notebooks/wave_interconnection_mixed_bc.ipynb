{
  "cells": [
    {
      "cell_type": "markdown",
      "metadata": {},
      "source": [
        "# Dynamic tension of a 1D rod: mixed boundary conditions\n",
        "Now we consider now mixed boundary conditions for the problem\n",
        "$$ \n",
        "\\begin{aligned}\n",
        "\\rho A \\partial_{tt} q &= \\partial_x (EA \\partial_x q), \\qquad x \\in \\Omega = [0, L], \\quad t \\in [0, T_{\\mathrm{end}}], \\\\\n",
        "q(0) &= 0, \\qquad \\partial_x q(L) = 0, \\\\\n",
        "q(x, 0) &= \\psi_1(x),  \\qquad  \\partial_t q(x, 0) = 0.\n",
        "\\end{aligned}\n",
        "$$\n",
        "\n",
        "where $q$ is the displacement, $\\rho$ the density, $A$ the cross-sectional area and $E$ the Young's modulus and $\\psi_1(x)$ is the first mode for the problem."
      ]
    },
    {
      "cell_type": "code",
      "execution_count": null,
      "metadata": {},
      "outputs": [],
      "source": [
        "import numpy as np\n",
        "import scipy.sparse as sp\n",
        "import scipy.sparse.linalg as sla\n",
        "from math import pi\n",
        "import matplotlib.pyplot as plt\n",
        "import matplotlib.animation as animation\n",
        "from src.plot_config import configure_matplotlib\n",
        "configure_matplotlib()\n",
        "from IPython.display import HTML\n",
        "\n",
        "from src.fem import mass_matrix_lagrange, stiffness_matrix, discrete_gradient\n",
        "from src.time_integration import newmark, implicit_midpoint\n",
        "from src.linear_algebra import remove_row_column"
      ]
    },
    {
      "cell_type": "markdown",
      "metadata": {},
      "source": [
        "## Problem Setup\n",
        "We define the problem parameters and discretize the domain. The domain is split into two parts of equal size containing the same number of elements."
      ]
    },
    {
      "cell_type": "code",
      "execution_count": null,
      "metadata": {},
      "outputs": [],
      "source": [
        "# Parameters\n",
        "length = 1  # Length of the domain (m)\n",
        "cross_section = 1  # Cross section area (m^2)\n",
        "density = 1  # Density of the fluid (kg/m^3)\n",
        "young_modulus = 1 # Young modulus (N/m^2)\n",
        "\n",
        "T_end = 10  # Total time\n",
        "n_elements = 30  # Number of spatial elements\n",
        "\n",
        "n_nodes = n_elements + 1\n",
        "# Derived parameters\n",
        "mesh_size = length/ n_elements  # Spatial step size\n",
        "density_unit_length = density * cross_section\n",
        "axial_stiffness = young_modulus * cross_section\n",
        "axial_compliance = 1./(young_modulus * cross_section)\n",
        "\n",
        "# Spatial grid\n",
        "coordinates = np.linspace(0, length, n_elements+1)\n",
        "\n",
        "assert n_elements%2==0\n",
        "n_elements_l = n_elements//2\n",
        "n_elements_r = n_elements//2\n",
        "n_nodes_l = n_elements_l + 1\n",
        "n_nodes_r = n_elements_r + 1\n",
        "\n",
        "n_dofs_l = n_elements_l + n_nodes_l\n",
        "n_dofs_r = n_elements_r + n_nodes_r\n",
        "\n",
        "coordinates_left = np.linspace(0, length/2, n_nodes_l)\n",
        "coordinates_right = np.linspace(length/2, length, n_nodes_r)\n",
        "\n",
        "midpoints_left = np.zeros(n_elements_l)\n",
        "\n",
        "for i in range(len(midpoints_left)):\n",
        "    midpoints_left[i] = 0.5*(coordinates_left[i] + coordinates_left[i+1])\n",
        "\n",
        "# Initial conditions\n",
        "q_0 = lambda x : np.sin(pi/(2*length)* x)  # Initial displacement\n",
        "v_0 = lambda x : 0*x  # Initial velocity\n",
        "sigma_0 = lambda x:  pi / (2 * length) * axial_stiffness * np.cos(pi*x/(2*length))\n",
        "\n",
        "q_0_nodes = q_0(coordinates)\n",
        "v_0_nodes = v_0(coordinates)\n",
        "sigma_0_nodes = sigma_0(coordinates)\n",
        "\n",
        "q_0_nodes_bc = q_0_nodes[1:] \n",
        "v_0_nodes_bc = v_0_nodes[1:]\n",
        "\n",
        "sigma_0_nodes_l = sigma_0(coordinates_left)\n",
        "\n",
        "q_0_nodes_r = q_0(coordinates_right)\n",
        "v_0_nodes_r = v_0(coordinates_right)\n"
      ]
    },
    {
      "cell_type": "markdown",
      "metadata": {},
      "source": [
        "##  Construction mass, stiffness and discrete derivative matrices"
      ]
    },
    {
      "cell_type": "markdown",
      "metadata": {},
      "source": [
        "Matrices for the classical discretization"
      ]
    },
    {
      "cell_type": "code",
      "execution_count": null,
      "metadata": {},
      "outputs": [],
      "source": [
        "M_full = mass_matrix_lagrange(coordinates, density_unit_length)\n",
        "K_full = stiffness_matrix(coordinates, axial_stiffness)\n",
        "D_full = discrete_gradient(coordinates)\n",
        "\n",
        "sigma_0_dg = axial_stiffness/mesh_size * D_full @ q_0_nodes"
      ]
    },
    {
      "cell_type": "markdown",
      "metadata": {},
      "source": [
        "Matrices for the interconnection based discretization"
      ]
    },
    {
      "cell_type": "code",
      "execution_count": null,
      "metadata": {},
      "outputs": [],
      "source": [
        "M_left = mass_matrix_lagrange(coordinates_left, axial_compliance)\n",
        "D_left = discrete_gradient(coordinates_left)\n",
        "B_left = np.zeros((n_dofs_l, 1))\n",
        "B_left[n_nodes_l - 1] = 1\n",
        "v_0_dg_l = v_0(midpoints_left)\n",
        "q_0_dg_l = q_0(midpoints_left)\n",
        "\n",
        "\n",
        "M_right = mass_matrix_lagrange(coordinates_right, density_unit_length)\n",
        "D_right = discrete_gradient(coordinates_right)\n",
        "B_right = np.zeros((n_dofs_r, 1))\n",
        "B_right[n_elements_r] = 1\n",
        "\n",
        "sigma_0_dg_r = axial_stiffness/mesh_size * D_right @ q_0_nodes_r"
      ]
    },
    {
      "cell_type": "markdown",
      "metadata": {},
      "source": [
        "## Choice of the time step\n",
        "\n",
        "Now the Dirichlet boundary conditions need to be taken into account."
      ]
    },
    {
      "cell_type": "code",
      "execution_count": null,
      "metadata": {},
      "outputs": [],
      "source": [
        "# Stability condition for explicit scheme\n",
        "wave_speed = np.sqrt(young_modulus/density)\n",
        "\n",
        "# Time step based on the wave speed\n",
        "dt_wave = mesh_size / wave_speed\n",
        "\n",
        "M_full_bc = remove_row_column(M_full, 0, 0)\n",
        "K_full_bc = remove_row_column(K_full, 0, 0)\n",
        "eigenvalues, _ = sla.eigs(K_full_bc, M=M_full_bc, k=1, which='LM')\n",
        "\n",
        "# Time step based on the highest eigenvalue\n",
        "omega_max = np.sqrt(max(eigenvalues.real))\n",
        "dt_omega = 2/omega_max\n",
        "\n",
        "print(f\"Time step based on the wave speed: {dt_wave:.3f} [s]\")\n",
        "print(f\"Time step based on the max frequency: {dt_omega:.3f} [s]\")\n",
        "\n",
        "time_step = 0.9 * dt_omega\n",
        "\n",
        "# Temporal grid\n",
        "n_times = int(np.ceil(T_end/time_step))\n",
        "time_instants = np.linspace(0, T_end, n_times+1)\n"
      ]
    },
    {
      "cell_type": "markdown",
      "metadata": {},
      "source": [
        "## Simulation using the Lagrangian form\n",
        "\n",
        "For the canonical disretization it is sufficient to pad the homogeneous boundary condition"
      ]
    },
    {
      "cell_type": "code",
      "execution_count": null,
      "metadata": {},
      "outputs": [],
      "source": [
        "# Run the implicit scheme\n",
        "q_newmark_imp_bc, v_newmark_imp_bc = newmark(q_0_nodes_bc, v_0_nodes_bc, M_full_bc, K_full_bc,\\\n",
        "                            time_step, n_times, gamma=0.5, beta=0.25)\n",
        "\n",
        "q_newmark_imp = np.hstack((np.zeros((1+n_times, 1)), q_newmark_imp_bc))\n",
        "v_newmark_imp = np.hstack((np.zeros((1+n_times, 1)), v_newmark_imp_bc))\n"
      ]
    },
    {
      "cell_type": "markdown",
      "metadata": {},
      "source": [
        "To express the mixed boundary conditions, we consider an interconnection of two port-Hamiltonian systems of opposite causality.\n",
        "The left part (l) is described by the dual formulation (Dirichlet bcs)\n",
        "\n",
        "\\begin{equation*}\n",
        "\\begin{aligned}\n",
        "\\mathbf{M}_{\\rm l} \\dot{\\mathbf{x}}_{\\rm l} &= \\mathbf{J}_{\\rm l} {\\mathbf{x}}_{\\rm l} + \\mathbf{B}_{\\rm l}\n",
        "\\textcolor{cyan}{u}, \\\\\n",
        "\\textcolor{red}{y} &= \\mathbf{B}_{\\rm l}^\\top {\\mathbf{x}}_{\\rm l}.\n",
        "\\end{aligned}\n",
        "\\end{equation*}\n",
        "\n",
        "The right part (r) is described by the primal formulation (Neumann bcs)\n",
        "\n",
        "\\begin{equation*}\n",
        "\\begin{aligned}\n",
        "\\mathbf{M}_{\\rm r} \\dot{\\mathbf{x}}_{\\rm r} &= \\mathbf{J}_{\\rm r} {\\mathbf{x}}_{\\rm r} + \\mathbf{B}_{\\rm r}\n",
        "\\textcolor{red}{u}, \\\\\n",
        "\\textcolor{cyan}{y} &= \\mathbf{B}_{\\rm r}^\\top {\\mathbf{x}}_{\\rm r}.\n",
        "\\end{aligned}\n",
        "\\end{equation*}\n",
        "The interconnection is essentially Newton's third law \n",
        "\\begin{equation*}\n",
        "\\begin{aligned}\n",
        "    \\textcolor{cyan}{u} &= \\textcolor{cyan}{y}, \\\\ \\textcolor{red}{u} &= -\\textcolor{red}{y},\n",
        "\\end{aligned} \\qquad\n",
        "\\begin{aligned}\n",
        "&\\text{The velocity is the same on both sides}, \\\\\n",
        "&\\text{The forces are opposite}. \\\\\n",
        "\\end{aligned}\n",
        "\\end{equation*}\n",
        "\n",
        "The interconnected system can be written as follows\n",
        "\\begin{equation*}\n",
        "\\begin{aligned}\n",
        "\\begin{bmatrix}\n",
        "\\mathbf{M}_{\\rm l}  & 0 \\\\\n",
        "0 & \\mathbf{M}_{\\rm r} \n",
        "\\end{bmatrix} \n",
        "\\begin{pmatrix}\n",
        "\\dot{\\mathbf{x}}_l \\\\\n",
        "\\dot{\\mathbf{x}}_r \\\\\n",
        "\\end{pmatrix} = \n",
        "\\begin{bmatrix}\n",
        "\\mathbf{J}_{\\rm l}  & +\\mathbf{B}_{\\rm l} \\mathbf{B}_{\\rm r}^\\top\\\\\n",
        "-\\mathbf{B}_{\\rm r} \\mathbf{B}_{\\rm l}^\\top & \\mathbf{J}_{\\rm r} \n",
        "\\end{bmatrix} \n",
        "\\begin{pmatrix}\n",
        "\\dot{\\mathbf{x}}_l \\\\\n",
        "\\dot{\\mathbf{x}}_r \\\\\n",
        "\\end{pmatrix}\n",
        "\\end{aligned}.\n",
        "\\end{equation*}"
      ]
    },
    {
      "cell_type": "code",
      "execution_count": null,
      "metadata": {},
      "outputs": [],
      "source": [
        "M_mixed_left = sp.block_diag([M_left, density_unit_length * mesh_size *  sp.identity(n_elements_l)])\n",
        "\n",
        "row1_left = sp.hstack([sp.csr_matrix((n_nodes_l, n_nodes_l)), -D_left.T])\n",
        "row2_left = sp.hstack([D_left, sp.csr_matrix((n_elements_l, n_elements_l))])\n",
        "J_mixed_left = sp.vstack([row1_left, row2_left])\n",
        "\n",
        "M_mixed_right = sp.block_diag([axial_compliance * mesh_size *  sp.identity(n_elements_r), M_right])\n",
        "\n",
        "row1_right = sp.hstack([sp.csr_matrix((n_elements_r, n_elements_r)), D_right])\n",
        "row2_right = sp.hstack([-D_right.T, sp.csr_matrix((n_nodes_r, n_nodes_r))])\n",
        "J_mixed_right = sp.vstack([row1_right, row2_right])\n",
        "\n",
        "M_mixed = sp.block_diag([M_mixed_left, M_mixed_right])\n",
        "J_mixed = sp.block_diag([J_mixed_left, J_mixed_right])\n",
        "\n",
        "J_interconnection = sp.lil_matrix((n_dofs_l + n_dofs_r, n_dofs_l + n_dofs_r))\n",
        "J_interconnection[:n_dofs_l, n_dofs_l:] = B_left @ B_right.T\n",
        "J_interconnection[n_dofs_l:, :n_dofs_l] = - B_right @ B_left.T\n",
        "\n",
        "J_mixed += J_interconnection"
      ]
    },
    {
      "cell_type": "markdown",
      "metadata": {},
      "source": [
        "We can employ the same integrators as before, but now using the port-Hamiltonian \n"
      ]
    },
    {
      "cell_type": "code",
      "execution_count": null,
      "metadata": {},
      "outputs": [],
      "source": [
        "x_at_0 = np.concatenate((sigma_0_nodes_l, v_0_dg_l, sigma_0_dg_r, v_0_nodes_r))\n",
        "\n",
        "x_mix_implicit = implicit_midpoint(x_at_0, M_mixed, J_mixed, time_step, n_times)\n",
        "\n",
        "s_mixed_l = x_mix_implicit[:, :n_nodes_l]\n",
        "s_mixed_r = x_mix_implicit[:, n_dofs_l:n_dofs_l + n_elements_r]\n",
        "\n",
        "v_mixed_l =  x_mix_implicit[:, n_nodes_l:n_dofs_l]\n",
        "v_mixed_r =  x_mix_implicit[:, n_dofs_l+n_elements_r:]\n"
      ]
    },
    {
      "cell_type": "markdown",
      "metadata": {},
      "source": [
        "Reconstruction of the displacement via the trapezoidal rule"
      ]
    },
    {
      "cell_type": "code",
      "execution_count": null,
      "metadata": {},
      "outputs": [],
      "source": [
        "q_mixed_l = np.zeros((1 + n_times, n_elements_l))\n",
        "q_mixed_l[0, :] = q_0_dg_l\n",
        "\n",
        "q_mixed_r = np.zeros((1 + n_times, n_nodes_r))\n",
        "q_mixed_r[0, :] = q_0_nodes_r\n",
        "\n",
        "for ii in range(n_times):\n",
        "    q_mixed_l[ii+1, :] = q_mixed_l[ii, :] + 0.5*time_step * (v_mixed_l[ii, :] + v_mixed_l[ii+1, :])\n",
        "    q_mixed_r[ii+1, :] = q_mixed_r[ii, :] + 0.5*time_step * (v_mixed_r[ii, :] + v_mixed_r[ii+1, :])\n"
      ]
    },
    {
      "cell_type": "markdown",
      "metadata": {},
      "source": [
        "## Visualization\n",
        "We set the parameters for the display options"
      ]
    },
    {
      "cell_type": "code",
      "execution_count": null,
      "metadata": {},
      "outputs": [],
      "source": [
        "step_animation = 10\n",
        "interval_frames = time_step * step_animation * 1000"
      ]
    },
    {
      "cell_type": "code",
      "execution_count": null,
      "metadata": {},
      "outputs": [],
      "source": [
        "fig, ax = plt.subplots()\n",
        "line1, = ax.plot(coordinates, q_newmark_imp[0, :], label='Implicit Newmark')\n",
        "line2, = ax.plot(midpoints_left, q_mixed_l[0, :], label='Mixed left')\n",
        "line3, = ax.plot(coordinates_right, q_mixed_r[0, :], label='Mixed right')\n",
        "\n",
        "ax.set_xlim(0, length)\n",
        "ax.set_ylim(-1.2, 1.2)\n",
        "ax.set_xlabel('$x$')\n",
        "ax.set_ylabel('$q$')\n",
        "ax.set_title('Displacement')\n",
        "ax.legend()\n",
        "ax.grid(True)\n",
        "plt.close()\n",
        "\n",
        "def update(ii):\n",
        "    line1.set_ydata(q_newmark_imp[ii, :])\n",
        "    line2.set_ydata(q_mixed_l[ii, :])\n",
        "    line3.set_ydata(q_mixed_r[ii, :])\n",
        "    ax.set_title(f\"Displacement $t= {ii*time_step:.1f}$ [s]\")\n",
        "    return line1, line2, line3\n",
        "\n",
        "\n",
        "anim = animation.FuncAnimation(fig, update, frames=range(0, n_times, step_animation), \\\n",
        "                               blit=True, interval=interval_frames)"
      ]
    },
    {
      "cell_type": "code",
      "execution_count": null,
      "metadata": {},
      "outputs": [],
      "source": [
        "HTML(anim.to_html5_video())"
      ]
    },
    {
      "cell_type": "markdown",
      "metadata": {},
      "source": [
        "Plot the energy of the two systems. The energy for the mixed discretization accounts for the left and \n",
        "\\begin{equation*}\n",
        "H = \\frac{1}{2} \\mathbf{x}_l^\\top \\mathbf{M}_l \\mathbf{x}_l + \\frac{1}{2} \\mathbf{x}_r^\\top \\mathbf{M}_r \\mathbf{x}_r.\n",
        "\\end{equation*}"
      ]
    },
    {
      "cell_type": "code",
      "execution_count": null,
      "metadata": {},
      "outputs": [],
      "source": [
        "energy_mixed = np.zeros(n_times+1)\n",
        "energy_newmark = np.zeros(n_times+1)\n",
        "\n",
        "for ii in range(1+n_times):\n",
        "    energy_mixed[ii] = 0.5 * np.dot(x_mix_implicit[ii], M_mixed @ x_mix_implicit[ii])\n",
        "    \n",
        "    energy_newmark[ii] = 0.5 * np.dot(v_newmark_imp[ii], M_full @ v_newmark_imp[ii]) + \\\n",
        "                          0.5 * np.dot(q_newmark_imp[ii], K_full @ q_newmark_imp[ii])\n",
        "\n",
        "\n",
        "fig, ax = plt.subplots()\n",
        "ax.plot(time_instants, energy_mixed, label='Energy mixed')\n",
        "ax.plot(time_instants, energy_newmark, label='Energy Newmark')\n",
        "ax.set_xlabel('$t$')\n",
        "ax.set_ylabel('$H$')\n",
        "ax.set_title('Energy')\n",
        "ax.legend()\n",
        "plt.show()"
      ]
    }
  ],
  "metadata": {
    "kernelspec": {
      "display_name": "Python 3",
      "language": "python",
      "name": "python3"
    },
    "language_info": {
      "codemirror_mode": {
        "name": "ipython",
        "version": 3
      },
      "file_extension": ".py",
      "mimetype": "text/x-python",
      "name": "python",
      "nbconvert_exporter": "python",
      "pygments_lexer": "ipython3",
      "version": "3.11.8"
    }
  },
  "nbformat": 4,
  "nbformat_minor": 4
}
