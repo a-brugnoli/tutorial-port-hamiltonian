{
  "cells": [
    {
      "cell_type": "markdown",
      "metadata": {},
      "source": [
        "# Dynamic tension of a 1D rod: mixed boundary conditions\n",
        "Now we consider now mixed boundary conditions for the problem\n",
        "$$ \n",
        "\\begin{aligned}\n",
        "\\rho A \\partial_{tt} q &= \\partial_x (EA \\partial_x q), \\qquad x \\in \\Omega = [0, L], \\quad t \\in [0, T_{\\mathrm{end}}], \\\\\n",
        "q(0) &= 0, \\qquad \\partial_x q(L) = 0, \\\\\n",
        "q(x, 0) &= \\psi_1(x),  \\qquad  \\partial_t q(x, 0) = 0.\n",
        "\\end{aligned}\n",
        "$$\n",
        "\n",
        "where $q$ is the displacement, $\\rho$ the density, $A$ the cross-sectional area and $E$ the Young's modulus and $\\psi_1(x)$ is the first mode for the problem."
      ]
    },
    {
      "cell_type": "code",
      "execution_count": 1,
      "metadata": {},
      "outputs": [],
      "source": [
        "import numpy as np\n",
        "import scipy.sparse as sp\n",
        "import scipy.sparse.linalg as sla\n",
        "from math import pi\n",
        "import matplotlib.pyplot as plt\n",
        "import matplotlib.animation as animation\n",
        "from src.plot_config import configure_matplotlib\n",
        "configure_matplotlib()\n",
        "from IPython.display import HTML\n",
        "\n",
        "from src.fem import mass_matrix_lagrange, stiffness_matrix, discrete_gradient\n",
        "from src.time_integration import newmark, implicit_midpoint\n",
        "from src.linear_algebra import remove_row_column"
      ]
    },
    {
      "cell_type": "markdown",
      "metadata": {},
      "source": [
        "## Problem Setup\n",
        "We define the problem parameters and discretize the domain."
      ]
    },
    {
      "cell_type": "code",
      "execution_count": 2,
      "metadata": {},
      "outputs": [],
      "source": [
        "# Parameters\n",
        "length = 1  # Length of the domain (m)\n",
        "cross_section = 1  # Cross section area (m^2)\n",
        "density = 1  # Density of the fluid (kg/m^3)\n",
        "young_modulus = 1 # Young modulus (N/m^2)\n",
        "\n",
        "T_end = 10  # Total time\n",
        "n_elements = 10  # Number of spatial elements\n",
        "\n",
        "n_nodes = n_elements + 1\n",
        "# Derived parameters\n",
        "mesh_size = length/ n_elements  # Spatial step size\n",
        "density_unit_length = density * cross_section\n",
        "axial_stiffness = young_modulus * cross_section\n",
        "axial_compliance = 1./(young_modulus * cross_section)\n",
        "\n",
        "# Spatial grid\n",
        "coordinates = np.linspace(0, length, n_elements+1)\n",
        "\n",
        "assert n_elements%2==0\n",
        "n_elements_l = n_elements//2\n",
        "n_elements_r = n_elements//2\n",
        "n_nodes_l = n_elements_l + 1\n",
        "n_nodes_r = n_elements_r + 1\n",
        "\n",
        "n_dofs_l = n_elements_l + n_nodes_l\n",
        "n_dofs_r = n_elements_r + n_nodes_r\n",
        "\n",
        "coordinates_left = np.linspace(0, length/2, n_nodes_l)\n",
        "coordinates_right = np.linspace(length/2, length, n_nodes_r)\n",
        "\n",
        "midpoints_left = np.zeros(n_elements_l)\n",
        "\n",
        "for i in range(len(midpoints_left)):\n",
        "    midpoints_left[i] = 0.5*(coordinates_left[i] + coordinates_left[i+1])\n",
        "\n",
        "# Initial conditions\n",
        "q_0 = lambda x : np.sin(pi/(2*length)* x)  # Initial displacement\n",
        "v_0 = lambda x : 0*x  # Initial velocity\n",
        "sigma_0 = lambda x:  pi / (2 * length) * axial_stiffness * np.cos(pi*x/(2*length))\n",
        "\n",
        "q_0_nodes = q_0(coordinates)\n",
        "v_0_nodes = v_0(coordinates)\n",
        "sigma_0_nodes = sigma_0(coordinates)\n",
        "\n",
        "q_0_nodes_bc = q_0_nodes[1:] \n",
        "v_0_nodes_bc = v_0_nodes[1:]\n",
        "\n",
        "sigma_0_nodes_l = sigma_0(coordinates_left)\n",
        "\n",
        "q_0_nodes_r = q_0(coordinates_right)\n",
        "v_0_nodes_r = v_0(coordinates_right)\n"
      ]
    },
    {
      "cell_type": "markdown",
      "metadata": {},
      "source": [
        "##  Construction mass, stiffness and discrete derivative matrices"
      ]
    },
    {
      "cell_type": "markdown",
      "metadata": {},
      "source": [
        "Matrices for the classical discretization"
      ]
    },
    {
      "cell_type": "code",
      "execution_count": 3,
      "metadata": {},
      "outputs": [],
      "source": [
        "M_full = mass_matrix_lagrange(coordinates, density_unit_length)\n",
        "K_full = stiffness_matrix(coordinates, axial_stiffness)\n",
        "D_full = discrete_gradient(coordinates)\n",
        "\n",
        "sigma_0_dg = axial_stiffness/mesh_size * D_full @ q_0_nodes"
      ]
    },
    {
      "cell_type": "markdown",
      "metadata": {},
      "source": [
        "Matrices for the interconnection based discretization"
      ]
    },
    {
      "cell_type": "code",
      "execution_count": 10,
      "metadata": {},
      "outputs": [],
      "source": [
        "M_left = mass_matrix_lagrange(coordinates_left, axial_compliance)\n",
        "D_left = discrete_gradient(coordinates_left)\n",
        "B_left = np.zeros((n_dofs_l, 1))\n",
        "B_left[n_nodes_l - 1] = 1\n",
        "v_0_dg_left = v_0(midpoints_left)\n",
        "\n",
        "M_right = mass_matrix_lagrange(coordinates_right, density_unit_length)\n",
        "D_right = discrete_gradient(coordinates_right)\n",
        "B_right = np.zeros((n_dofs_r, 1))\n",
        "B_right[n_elements_r] = 1\n",
        "\n",
        "sigma_0_dg_right = axial_stiffness/mesh_size * D_right @ q_0_nodes_r"
      ]
    },
    {
      "cell_type": "markdown",
      "metadata": {},
      "source": [
        "## Choice of the time step\n",
        "\n",
        "Now the Dirichlet boundary conditions need to be taken into account."
      ]
    },
    {
      "cell_type": "code",
      "execution_count": 5,
      "metadata": {},
      "outputs": [
        {
          "name": "stdout",
          "output_type": "stream",
          "text": [
            "Time step based on the wave speed: 0.100 [s]\n",
            "Time step based on the max frequency: 0.058 [s]\n"
          ]
        }
      ],
      "source": [
        "# Stability condition for explicit scheme\n",
        "wave_speed = np.sqrt(young_modulus/density)\n",
        "\n",
        "# Time step based on the wave speed\n",
        "dt_wave = mesh_size / wave_speed\n",
        "\n",
        "M_full_bc = remove_row_column(M_full, 0, 0)\n",
        "K_full_bc = remove_row_column(K_full, 0, 0)\n",
        "eigenvalues, _ = sla.eigs(K_full_bc, M=M_full_bc, k=1, which='LM')\n",
        "\n",
        "# Time step based on the highest eigenvalue\n",
        "omega_max = np.sqrt(max(eigenvalues.real))\n",
        "dt_omega = 2/omega_max\n",
        "\n",
        "print(f\"Time step based on the wave speed: {dt_wave:.3f} [s]\")\n",
        "print(f\"Time step based on the max frequency: {dt_omega:.3f} [s]\")\n",
        "\n",
        "time_step = 0.9 * dt_omega\n",
        "\n",
        "# Temporal grid\n",
        "n_times = int(np.ceil(T_end/time_step))\n",
        "time_instants = np.linspace(0, T_end, n_times+1)\n"
      ]
    },
    {
      "cell_type": "markdown",
      "metadata": {},
      "source": [
        "## Simulation using the Lagrangian form\n",
        "\n",
        "For the canonical disretization it is sufficient to pad the homogeneous boundary condition"
      ]
    },
    {
      "cell_type": "code",
      "execution_count": 6,
      "metadata": {},
      "outputs": [],
      "source": [
        "# Run the implicit scheme\n",
        "q_newmark_imp_bc, v_newmark_imp_bc = newmark(q_0_nodes_bc, v_0_nodes_bc, M_full_bc, K_full_bc,\\\n",
        "                            time_step, n_times, gamma=0.5, beta=0.25)\n",
        "\n",
        "q_newmark_imp = np.hstack((np.zeros((1+n_times, 1)), q_newmark_imp_bc))\n",
        "v_newmark_imp = np.hstack((np.zeros((1+n_times, 1)), v_newmark_imp_bc))\n"
      ]
    },
    {
      "cell_type": "markdown",
      "metadata": {},
      "source": [
        "To express the mixed boundary conditions, we consider an interconnection of two port-Hamiltonian systems of opposite causality"
      ]
    },
    {
      "cell_type": "code",
      "execution_count": 8,
      "metadata": {},
      "outputs": [],
      "source": [
        "M_mixed_left = sp.block_diag([M_left, \n",
        "                            density_unit_length * mesh_size *  sp.identity(n_nodes)])\n",
        "\n",
        "row1_left = sp.hstack([sp.csr_matrix((n_nodes_l, n_nodes_l)), -D_left.T])\n",
        "row2_left = sp.hstack([D_left, sp.csr_matrix((n_elements_l, n_elements_l))])\n",
        "J_mixed_left = sp.vstack([row1_left, row2_left])\n",
        "\n",
        "M_mixed_right = sp.block_diag([axial_compliance * mesh_size *  sp.identity(n_nodes), \n",
        "                            M_right])\n",
        "\n",
        "row1_right = sp.hstack([sp.csr_matrix((n_elements_r, n_elements_r)), D_right])\n",
        "row2_right = sp.hstack([-D_right.T, sp.csr_matrix((n_nodes_r, n_nodes_r))])\n",
        "J_mixed_right = sp.vstack([row1_right, row2_right])\n",
        "\n",
        "M_mixed = sp.block_diag([M_mixed_left, M_mixed_right])\n",
        "J_mixed = sp.block_diag([J_mixed_left, J_mixed_right])\n",
        "\n",
        "J_interconnection = sp.lil_matrix((n_dofs_l + n_dofs_r, n_dofs_l + n_dofs_r))\n",
        "J_interconnection[:n_dofs_l, n_dofs_l:] = B_left @ B_right.T\n",
        "J_interconnection[n_dofs_l:, :n_dofs_l] = - B_right @ B_left.T\n",
        "\n",
        "J_mixed += J_interconnection"
      ]
    },
    {
      "cell_type": "markdown",
      "metadata": {},
      "source": [
        "We can employ the same integrators as before, but now using the port-Hamiltonian \n"
      ]
    },
    {
      "cell_type": "code",
      "execution_count": 9,
      "metadata": {},
      "outputs": [
        {
          "ename": "ValueError",
          "evalue": "inconsistent shapes",
          "output_type": "error",
          "traceback": [
            "\u001b[0;31m---------------------------------------------------------------------------\u001b[0m",
            "\u001b[0;31mValueError\u001b[0m                                Traceback (most recent call last)",
            "Cell \u001b[0;32mIn[9], line 3\u001b[0m\n\u001b[1;32m      1\u001b[0m x_at_0 \u001b[38;5;241m=\u001b[39m np\u001b[38;5;241m.\u001b[39mconcatenate((sigma_0_nodes_l, v_0_dg_left, sigma_0_dg_right, v_0_nodes_r))\n\u001b[0;32m----> 3\u001b[0m x_mix_implicit \u001b[38;5;241m=\u001b[39m \u001b[43mimplicit_midpoint\u001b[49m\u001b[43m(\u001b[49m\u001b[43mx_at_0\u001b[49m\u001b[43m,\u001b[49m\u001b[43m \u001b[49m\u001b[43mM_mixed\u001b[49m\u001b[43m,\u001b[49m\u001b[43m \u001b[49m\u001b[43mJ_mixed\u001b[49m\u001b[43m,\u001b[49m\u001b[43m \u001b[49m\u001b[43mtime_step\u001b[49m\u001b[43m,\u001b[49m\u001b[43m \u001b[49m\u001b[43mn_times\u001b[49m\u001b[43m)\u001b[49m\n\u001b[1;32m      5\u001b[0m s_mixed_l \u001b[38;5;241m=\u001b[39m x_mix_implicit[:, :n_nodes_l]\n\u001b[1;32m      6\u001b[0m s_mixed_r \u001b[38;5;241m=\u001b[39m x_mix_implicit[:, n_dofs_l:n_dofs_l \u001b[38;5;241m+\u001b[39m n_elements_r]\n",
            "File \u001b[0;32m~/GitHub/tutorial-port-hamiltonian/src/time_integration.py:51\u001b[0m, in \u001b[0;36mimplicit_midpoint\u001b[0;34m(x_0, M, A, dt, nt, bcs_essential)\u001b[0m\n\u001b[1;32m     47\u001b[0m x_solution[\u001b[38;5;241m0\u001b[39m, :] \u001b[38;5;241m=\u001b[39m x_0\n\u001b[1;32m     49\u001b[0m x_old \u001b[38;5;241m=\u001b[39m x_0\n\u001b[0;32m---> 51\u001b[0m A_imp_midpoint \u001b[38;5;241m=\u001b[39m (\u001b[43mM\u001b[49m\u001b[43m \u001b[49m\u001b[38;5;241;43m-\u001b[39;49m\u001b[43m \u001b[49m\u001b[43mdt\u001b[49m\u001b[38;5;241;43m/\u001b[39;49m\u001b[38;5;241;43m2\u001b[39;49m\u001b[43m \u001b[49m\u001b[38;5;241;43m*\u001b[39;49m\u001b[43m \u001b[49m\u001b[43mA\u001b[49m)\n\u001b[1;32m     53\u001b[0m \u001b[38;5;28;01mfor\u001b[39;00m n \u001b[38;5;129;01min\u001b[39;00m \u001b[38;5;28mrange\u001b[39m(nt):\n\u001b[1;32m     54\u001b[0m     b \u001b[38;5;241m=\u001b[39m (M \u001b[38;5;241m+\u001b[39m dt\u001b[38;5;241m/\u001b[39m\u001b[38;5;241m2\u001b[39m \u001b[38;5;241m*\u001b[39m A) \u001b[38;5;241m@\u001b[39m x_old\n",
            "File \u001b[0;32m~/miniconda3/lib/python3.11/site-packages/scipy/sparse/_base.py:485\u001b[0m, in \u001b[0;36m_spbase.__sub__\u001b[0;34m(self, other)\u001b[0m\n\u001b[1;32m    483\u001b[0m \u001b[38;5;28;01melif\u001b[39;00m issparse(other):\n\u001b[1;32m    484\u001b[0m     \u001b[38;5;28;01mif\u001b[39;00m other\u001b[38;5;241m.\u001b[39mshape \u001b[38;5;241m!=\u001b[39m \u001b[38;5;28mself\u001b[39m\u001b[38;5;241m.\u001b[39mshape:\n\u001b[0;32m--> 485\u001b[0m         \u001b[38;5;28;01mraise\u001b[39;00m \u001b[38;5;167;01mValueError\u001b[39;00m(\u001b[38;5;124m\"\u001b[39m\u001b[38;5;124minconsistent shapes\u001b[39m\u001b[38;5;124m\"\u001b[39m)\n\u001b[1;32m    486\u001b[0m     \u001b[38;5;28;01mreturn\u001b[39;00m \u001b[38;5;28mself\u001b[39m\u001b[38;5;241m.\u001b[39m_sub_sparse(other)\n\u001b[1;32m    487\u001b[0m \u001b[38;5;28;01melif\u001b[39;00m isdense(other):\n",
            "\u001b[0;31mValueError\u001b[0m: inconsistent shapes"
          ]
        }
      ],
      "source": [
        "x_at_0 = np.concatenate((sigma_0_nodes_l, v_0_dg_left, sigma_0_dg_right, v_0_nodes_r))\n",
        "\n",
        "x_mix_implicit = implicit_midpoint(x_at_0, M_mixed, J_mixed, time_step, n_times)\n",
        "\n",
        "s_mixed_l = x_mix_implicit[:, :n_nodes_l]\n",
        "s_mixed_r = x_mix_implicit[:, n_dofs_l:n_dofs_l + n_elements_r]\n"
      ]
    },
    {
      "cell_type": "markdown",
      "metadata": {},
      "source": [
        "Reconstruction of the displacement via the trapezoidal rule"
      ]
    },
    {
      "cell_type": "code",
      "execution_count": null,
      "metadata": {},
      "outputs": [],
      "source": []
    },
    {
      "cell_type": "markdown",
      "metadata": {},
      "source": [
        "## Visualization\n",
        "We set the parameters for the display options"
      ]
    },
    {
      "cell_type": "code",
      "execution_count": null,
      "metadata": {},
      "outputs": [],
      "source": [
        "step_animation = 20\n",
        "interval_frames = time_step * step_animation * 1000"
      ]
    },
    {
      "cell_type": "markdown",
      "metadata": {},
      "source": [
        "First we compare the Explicit Newmark with Stormer-Verlet and the Implicit Newmark with the implicit midpoint"
      ]
    },
    {
      "cell_type": "markdown",
      "metadata": {},
      "source": [
        "Plot of the energy for the implicit and explicit scheme"
      ]
    }
  ],
  "metadata": {
    "kernelspec": {
      "display_name": "Python 3",
      "language": "python",
      "name": "python3"
    },
    "language_info": {
      "codemirror_mode": {
        "name": "ipython",
        "version": 3
      },
      "file_extension": ".py",
      "mimetype": "text/x-python",
      "name": "python",
      "nbconvert_exporter": "python",
      "pygments_lexer": "ipython3",
      "version": "3.11.8"
    }
  },
  "nbformat": 4,
  "nbformat_minor": 4
}
