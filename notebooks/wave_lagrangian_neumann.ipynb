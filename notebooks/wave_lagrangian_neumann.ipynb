{
 "cells": [
  {
   "cell_type": "markdown",
   "metadata": {},
   "source": [
    "# Dynamic tension of a 1D rod: Lagrangian and Hamiltonian formulations (Neumann bcs)\n",
    "We are going to solve the propagation of lungitudinal waves using different formulations showing equivalences and differences between them.\n",
    "The 1D wave equation is given by:\n",
    "$$ \n",
    "\\begin{aligned}\n",
    "\\rho A \\partial_{tt} q &= \\partial_x (EA \\partial_x q), \\qquad x \\in \\Omega = [0, L], \\quad t \\in [0, T_{\\mathrm{end}}], \\\\\n",
    "\\partial_x q(0) &= 0, \\qquad \\partial_x q(L) = 0, \\\\\n",
    "q(x, 0) &= \\psi_1(x),  \\qquad  \\partial_t q(x, 0) = 0.\n",
    "\\end{aligned}\n",
    "$$\n",
    "\n",
    "where $q$ is the displacement, $\\rho$ the density, $A$ the cross-sectional area and $E$ the Young's modulus and $\\psi_1(x)$ is the first mode for the problem."
   ]
  },
  {
   "cell_type": "code",
   "execution_count": 2,
   "metadata": {},
   "outputs": [],
   "source": [
    "import numpy as np\n",
    "import scipy.sparse as sp\n",
    "import scipy.sparse.linalg as sla\n",
    "from math import pi\n",
    "import matplotlib.pyplot as plt\n",
    "import matplotlib.animation as animation\n",
    "from src.plot_config import configure_matplotlib\n",
    "configure_matplotlib()\n",
    "from IPython.display import HTML\n",
    "\n",
    "from src.fem import mass_matrix_lagrange, stiffness_matrix, discrete_gradient\n",
    "from src.time_integration import newmark, stormer_verlet, implicit_midpoint"
   ]
  },
  {
   "cell_type": "markdown",
   "metadata": {},
   "source": [
    "## Problem Setup\n",
    "We define the problem parameters and discretize the domain."
   ]
  },
  {
   "cell_type": "code",
   "execution_count": 3,
   "metadata": {},
   "outputs": [],
   "source": [
    "# Parameters\n",
    "length = 1  # Length of the domain (m)\n",
    "cross_section = 1  # Cross section area (m^2)\n",
    "density = 1  # Density of the fluid (kg/m^3)\n",
    "young_modulus = 1 # Young modulus (N/m^2)\n",
    "\n",
    "T_end = 10  # Total time\n",
    "n_elements = 10  # Number of spatial elements\n",
    "\n",
    "n_nodes = n_elements + 1\n",
    "# Derived parameters\n",
    "mesh_size = length/ n_elements  # Spatial step size\n",
    "density_unit_length = density * cross_section\n",
    "axial_stiffness = young_modulus * cross_section\n",
    "\n",
    "# Spatial grid\n",
    "coordinates = np.linspace(0, length, n_elements+1)\n",
    "\n",
    "# Initial conditions\n",
    "q_0 = lambda x : np.cos(pi * x/length)  # Initial displacement\n",
    "v_0 = lambda x : 0*x  # Initial velocity\n",
    "sigma_0 = lambda x:  - pi / length * axial_stiffness * np.sin(pi*x/length)\n",
    "q_0_nodes = q_0(coordinates)\n",
    "v_0_nodes = v_0(coordinates)"
   ]
  },
  {
   "cell_type": "markdown",
   "metadata": {},
   "source": [
    "##  Construction mass, stiffness and discrete derivative matrices"
   ]
  },
  {
   "cell_type": "markdown",
   "metadata": {},
   "source": [
    "The mass and stiffness matrix are the usual one obtained for the lowest order Lagrange elements\n",
    "\n",
    "\\begin{equation*}\n",
    "M_{\\rm elem} = \\frac{\\rho A h}{6}\n",
    "\\begin{bmatrix} \n",
    "2 & 1 \\\\\n",
    "1 & 2\n",
    "\\end{bmatrix}, \\qquad \n",
    "K_{\\rm elem} = \\frac{EA}{h} \n",
    "\\begin{bmatrix} \n",
    "1 & -1 \\\\\n",
    "-1 & 1\n",
    "\\end{bmatrix}.\n",
    "\\end{equation*}\n",
    "The discrete derivative is instead a matrix containing the topological relations between nodes and elements\n",
    "\\begin{equation*}\n",
    "D_{\\rm elem} = \n",
    "\\begin{bmatrix} \n",
    "1 & -1 \n",
    "\\end{bmatrix}.\n",
    "\\end{equation*}\n",
    "\n",
    "The initial stress is obtained from the initial displacement by using the discrete gradient. This guarantees that the port-Hamiltonian formulation and the Lagrangian formulation are indeed equivalent\n",
    "\\begin{equation*}\n",
    "\\mathbf{s}_0 = \\frac{EA}{h} \\mathbf{D} \\mathbf{q}_0\n",
    "\\end{equation*}"
   ]
  },
  {
   "cell_type": "code",
   "execution_count": 13,
   "metadata": {},
   "outputs": [
    {
     "name": "stdout",
     "output_type": "stream",
     "text": [
      "11\n"
     ]
    }
   ],
   "source": [
    "M = mass_matrix_lagrange(coordinates, density_unit_length)\n",
    "K = stiffness_matrix(coordinates, axial_stiffness)\n",
    "D = discrete_gradient(coordinates)\n",
    "diagonal_lumped = [np.sum(M[i, :]) for i in range(M.shape[0])]\n",
    "\n",
    "M_lumped = sp.diags(diagonal_lumped, offsets=0, format='csr')\n",
    "\n",
    "sigma_0_elements = axial_stiffness/mesh_size * D @ q_0_nodes"
   ]
  },
  {
   "cell_type": "markdown",
   "metadata": {},
   "source": [
    "## Choice of the time step\n",
    "\n",
    "The wave propagation speed is given by:\n",
    "$$ c = \\sqrt{\\frac{E}{\\rho}}.$$\n",
    "\n",
    "One may think that it suffices to choose $\\Delta t \\le h/c$ to obtain a stable scheme but this is not the case. For the explicit Newmark integrator ($\\gamma = \\frac{1}{2}, \\; \\beta = 0$), the maximum allowable time step is given by \n",
    "\n",
    "$$ dt_\\mathrm{max} = \\frac{2}{\\omega_{\\mathrm{max}}}$$\n",
    "\n",
    "where $\\omega_{\\mathrm{max}}$ is the maximum eigenvalue of the generalized eigenproblem:\n",
    "\n",
    "$$\\omega^2 \\mathbf{M} \\boldsymbol{\\psi} = \\mathbf{K} \\boldsymbol{\\psi}.$$\n",
    "\n",
    "Typically a conservative coefficient is introduced $\\alpha_{\\mathrm{CFL}} = 0.9$:\n",
    "$$ dt = \\alpha_{\\mathrm{CFL}} \\frac{2}{\\omega_{\\mathrm{max}}}$$"
   ]
  },
  {
   "cell_type": "code",
   "execution_count": 15,
   "metadata": {},
   "outputs": [
    {
     "name": "stdout",
     "output_type": "stream",
     "text": [
      "Time step based on the wave speed: 0.100 [s]\n",
      "Time step based on the max frequency: 0.058 [s]\n",
      "Time step based on the max frequency (lumped mass): 0.100 [s]\n"
     ]
    }
   ],
   "source": [
    "\n",
    "# Stability condition for explicit scheme\n",
    "wave_speed = np.sqrt(young_modulus/density)\n",
    "\n",
    "# Time step based on the wave speed\n",
    "dt_wave = mesh_size / wave_speed\n",
    "eigenvalues, _ = sla.eigs(K, M=M, k=1, which='LM')\n",
    "eigenvalues_lumped, _ = sla.eigs(K, M = M_lumped, k=1, which='LM')\n",
    "\n",
    "# Time step based on the highest eigenvalue\n",
    "omega_max = np.sqrt(max(eigenvalues.real))\n",
    "dt_omega = 2/omega_max\n",
    "\n",
    "omega_max_lumped = np.sqrt(max(eigenvalues_lumped.real))\n",
    "dt_omega_lumped = 2/omega_max_lumped\n",
    "\n",
    "print(f\"Time step based on the wave speed: {dt_wave:.3f} [s]\")\n",
    "print(f\"Time step based on the max frequency: {dt_omega:.3f} [s]\")\n",
    "print(f\"Time step based on the max frequency (lumped mass): {dt_omega_lumped:.3f} [s]\")\n",
    "\n",
    "time_step = 0.9 * dt_omega\n",
    "\n",
    "# Temporal grid\n",
    "n_times = int(np.ceil(T_end/time_step))\n",
    "time_instants = np.linspace(0, T_end, n_times+1)\n"
   ]
  },
  {
   "cell_type": "markdown",
   "metadata": {},
   "source": [
    "## Simulation using the Lagrangian form\n",
    "\n",
    "The newmark integrator takes the following form\n",
    "\\begin{equation*}\n",
    "\\begin{aligned}\n",
    "    \\mathbf{M}_{\\rho} \\mathbf{a}^{n+1} + \\mathbf{K}\\mathbf{q}^{n+1} &= 0,  \\\\\n",
    "        \\frac{\\mathbf{v}^{n+1} - \\mathbf{v}^n}{\\Delta t} &=  \\gamma  \\mathbf{a}^{n+1} + (1 - \\gamma)  \\mathbf{a}^{n},  \\\\\n",
    "        \\frac{\\mathbf{q}^{n+1} - \\mathbf{q}^n}{\\Delta t}&= \\mathbf{v}^n + \\frac{\\Delta t}{2}(2 \\beta \\mathbf{a}^{n+1} + (1-2\\beta) \\mathbf{a}^n).\n",
    "\\end{aligned}\n",
    "\\end{equation*}"
   ]
  },
  {
   "cell_type": "code",
   "execution_count": null,
   "metadata": {},
   "outputs": [],
   "source": [
    "\n",
    "# # Run the explicit scheme\n",
    "q_newmark_exp, v_newmark_exp = newmark(q_0_nodes, v_0_nodes, M, K,\\\n",
    "                            time_step, n_times, gamma=0.5, beta=0)\n",
    "\n",
    "# Run the implicit scheme\n",
    "q_newmark_imp, v_newmark_imp = newmark(q_0_nodes, v_0_nodes, M, K,\\\n",
    "                            time_step, n_times, gamma=0.5, beta=0.25)\n"
   ]
  },
  {
   "cell_type": "markdown",
   "metadata": {},
   "source": [
    "## Simulation using the Hamiltonian form\n",
    "\n",
    "The hamiltonian form of the problem is \n",
    "\n",
    "$$\n",
    "\\begin{pmatrix}\n",
    "\\dot{\\mathbf{q}} \\\\\n",
    "\\dot{\\mathbf{p}} \\\\\n",
    "\\end{pmatrix} = \n",
    "\\begin{bmatrix}\n",
    "0 & \\mathbf{I} \\\\\n",
    "-\\mathbf{I} & 0\n",
    "\\end{bmatrix}\n",
    "\\begin{pmatrix}\n",
    "\\partial_{\\mathbf{q}} H \\\\\n",
    "\\partial_{\\mathbf{q}} H \\\\\n",
    "\\end{pmatrix}, \\qquad \n",
    "H = \\frac{1}{2} \\mathbf{p}^\\top \\mathbf{M}^{-1} \\mathbf{p} + \\frac{1}{2} \\mathbf{q}^\\top \\mathbf{K} \\mathbf{q}.\n",
    "$$\n",
    "\n",
    "Since the mass matrix is sparse and in real problems very large, we are going with the velocity instead of the linear momentum\n",
    "\n",
    "$$\n",
    "\\begin{bmatrix}\n",
    "\\mathbf{I} & 0\\\\\n",
    "0 & \\mathbf{M}_\\rho\n",
    "\\end{bmatrix}\n",
    "\\begin{pmatrix}\n",
    "\\dot{\\mathbf{q}} \\\\\n",
    "\\dot{\\mathbf{v}} \\\\\n",
    "\\end{pmatrix} = \n",
    "\\begin{bmatrix}\n",
    "0 & \\mathbf{I} \\\\\n",
    "-\\mathbf{I} & 0\n",
    "\\end{bmatrix}\n",
    "\\begin{pmatrix}\n",
    "\\mathbf{K} \\mathbf{q} \\\\\n",
    "\\mathbf{v} \\\\\n",
    "\\end{pmatrix}, \\qquad \n",
    "H = \\frac{1}{2} \\mathbf{v}^\\top \\mathbf{M} \\mathbf{v} + \\frac{1}{2} \\mathbf{q}^\\top \\mathbf{K} \\mathbf{q}.\n",
    "$$\n",
    "A general syntax is used for the stormer-verlet integrator."
   ]
  },
  {
   "cell_type": "code",
   "execution_count": null,
   "metadata": {},
   "outputs": [],
   "source": [
    "sparse_eye = sp.identity(n_nodes)\n",
    "q_stverlet, v_stverlet = stormer_verlet(q_0_nodes, v_0_nodes,\\\n",
    "                                    M, sparse_eye, - K, \\\n",
    "                                    time_step, n_times)\n",
    "\n",
    "x_at_0 = np.concatenate((q_0_nodes, v_0_nodes))\n",
    "\n",
    "M_ham = sp.block_diag([sp.identity(n_nodes), M])\n",
    "\n",
    "A_row1_ham = sp.hstack([sp.csr_matrix((n_nodes, n_nodes)), sparse_eye])\n",
    "A_row2_ham = sp.hstack([- K, sp.csr_matrix((n_nodes, n_nodes))])\n",
    "A_ham = sp.vstack([A_row1_ham, A_row2_ham])\n",
    "\n",
    "x_ham_implicit = implicit_midpoint(x_at_0, M_ham, A_ham, time_step, n_times)\n",
    "\n",
    "q_ham_implicit = x_ham_implicit[:, :n_nodes]\n",
    "v_ham_implicit = x_ham_implicit[:, n_nodes:]"
   ]
  },
  {
   "cell_type": "markdown",
   "metadata": {},
   "source": [
    "If instead the port-Hamiltonian form is considered, the system make take two dual forms. The primal one is equivalent to the classical Lagrangian discretization \n",
    "\n",
    "\\begin{equation*}\n",
    "\\begin{bmatrix}\n",
    "\\mathbf{M}_c & 0 \\\\\n",
    "0 & \\mathbf{M}_\\rho\n",
    "\\end{bmatrix}\n",
    "\\begin{pmatrix}\n",
    "\\dot{\\mathbf{s}} \\\\\n",
    "\\dot{\\mathbf{v}}\n",
    "\\end{pmatrix} = \n",
    "\\begin{bmatrix}\n",
    "0 & - \\mathbf{D}^\\top \\\\\n",
    "\\mathbf{D} & 0 \\\\\n",
    "\\end{bmatrix}\n",
    "\\begin{pmatrix}\n",
    "{\\mathbf{s}} \\\\\n",
    "{\\mathbf{v}}\n",
    "\\end{pmatrix}\n",
    "\\end{equation*}\n",
    "\n",
    "In the case $\\mathbf{M}_c$ is block-diagonal. For degree 0 discontinuous elements, it takes the form \n",
    "\\begin{equation*}\n",
    "\\mathbf{M}_c = \\frac{h}{EA} \\mathbf{I}\n",
    "\\end{equation*}\n",
    "\n",
    "The dual system represents a mixed discretization, where the stress is represented by a continuos filed and the velocity is instead discontinuous\n",
    "\n",
    "\\begin{equation*}\n",
    "\\begin{bmatrix}\n",
    "\\mathbf{M}_c & 0 \\\\\n",
    "0 & \\mathbf{M}_\\rho\n",
    "\\end{bmatrix}\n",
    "\\begin{pmatrix}\n",
    "\\dot{\\mathbf{s}} \\\\\n",
    "\\dot{\\mathbf{v}}\n",
    "\\end{pmatrix} = \n",
    "\\begin{bmatrix}\n",
    "0 & \\mathbf{D} \\\\\n",
    "- \\mathbf{D}^\\top & 0 \\\\\n",
    "\\end{bmatrix}\n",
    "\\begin{pmatrix}\n",
    "{\\mathbf{s}} \\\\\n",
    "{\\mathbf{v}}\n",
    "\\end{pmatrix}\n",
    "\\end{equation*}\n",
    "\n",
    "In the case $\\mathbf{M}_\\rho$ is block-diagonal (diagonal for degree 0 discontinuous elements).\n"
   ]
  },
  {
   "cell_type": "markdown",
   "metadata": {},
   "source": [
    "We can employ the same integrators as before, but now using the port-Hamiltonian system. \n"
   ]
  },
  {
   "cell_type": "code",
   "execution_count": null,
   "metadata": {},
   "outputs": [],
   "source": [
    "A_1 = axial_stiffness/mesh_size*D\n",
    "\n",
    "sigma_mixed_sv, v_mixed_sv = stormer_verlet(sigma_0_elements, v_0_nodes, \n",
    "                                                            M, A_1, - D.T,\\\n",
    "                                                            time_step, n_times)\n",
    "\n",
    "x_at_0 = np.concatenate((sigma_0_elements, v_0_nodes))\n",
    "\n",
    "M_mixed = sp.block_diag([mesh_size/axial_stiffness * sp.identity(n_elements), M])\n",
    "\n",
    "A_row1_mix = sp.hstack([sp.csr_matrix((n_elements, n_elements)), D])\n",
    "A_row2_mix = sp.hstack([- D.T, sp.csr_matrix((n_nodes, n_nodes))])\n",
    "A_mix = sp.vstack([A_row1_mix, A_row2_mix])\n",
    "\n",
    "x_mixed_imp = implicit_midpoint(x_at_0, M_mixed, A_mix, time_step, n_times)\n",
    "\n",
    "s_mixed_imp = x_mixed_imp[:, :n_elements]\n",
    "v_mixed_imp = x_mixed_imp[:, n_elements:]"
   ]
  },
  {
   "cell_type": "markdown",
   "metadata": {},
   "source": [
    "Reconstruction of the displacement via the trapezoidal rule"
   ]
  },
  {
   "cell_type": "code",
   "execution_count": null,
   "metadata": {},
   "outputs": [],
   "source": [
    "q_mixed_sv = np.zeros((1 + n_times, n_nodes))\n",
    "q_mixed_sv[0, :] = q_0_nodes\n",
    "\n",
    "q_mixed_imp = np.zeros((1 + n_times, n_nodes))\n",
    "q_mixed_imp[0, :] = q_0_nodes\n",
    "\n",
    "for ii in range(n_times):\n",
    "    q_mixed_sv[ii+1, :] = q_mixed_sv[ii, :] + time_step * v_mixed_sv[ii, :]\n",
    "    q_mixed_imp[ii+1, :] = q_mixed_imp[ii, :] + 0.5*time_step * (v_mixed_imp[ii, :] + v_mixed_imp[ii+1, :])\n"
   ]
  },
  {
   "cell_type": "markdown",
   "metadata": {},
   "source": [
    "## Visualization\n",
    "We set the parameters for the display options"
   ]
  },
  {
   "cell_type": "code",
   "execution_count": null,
   "metadata": {},
   "outputs": [],
   "source": [
    "step_animation = 10\n",
    "interval_frames = time_step * step_animation * 1000"
   ]
  },
  {
   "cell_type": "markdown",
   "metadata": {},
   "source": [
    "First we compare the Explicit Newmark with Stormer-Verlet and the Implicit Newmark with the implicit midpoint"
   ]
  },
  {
   "cell_type": "code",
   "execution_count": null,
   "metadata": {},
   "outputs": [],
   "source": [
    "fig, ax = plt.subplots()\n",
    "line1, = ax.plot(coordinates, q_stverlet[0, :] - q_newmark_exp[0, :], label=\"SV Ham and Exp. Newmark\" )\n",
    "line2, = ax.plot(coordinates, q_stverlet[0, :] - q_mixed_sv[0, :], label=\"SV Ham and Mixed\")\n",
    "line3, = ax.plot(coordinates, q_ham_implicit[0, :] - q_newmark_imp[0, :], label=\"IM Ham and Imp. Newmark\" )\n",
    "line4, = ax.plot(coordinates, q_ham_implicit[0, :] - q_mixed_imp[0, :], label=\"IM Ham and Mixed\")\n",
    "ax.set_xlim(0, length)\n",
    "ax.set_ylim(-10**(-12), 10**(-12))\n",
    "\n",
    "ax.set_xlabel('$x$')\n",
    "ax.set_ylabel('$q$')\n",
    "ax.set_title('Difference of displacement (explicit)')\n",
    "ax.legend()\n",
    "ax.grid(True)\n",
    "plt.close()\n",
    "\n",
    "def update(ii):\n",
    "    line1.set_ydata(q_stverlet[ii, :] - q_newmark_exp[ii, :])\n",
    "    line2.set_ydata(q_stverlet[ii, :] - q_mixed_sv[ii, :])\n",
    "    line3.set_ydata(q_ham_implicit[ii, :] - q_newmark_imp[ii, :])\n",
    "    line4.set_ydata(q_ham_implicit[ii, :] - q_mixed_imp[ii, :])\n",
    "    ax.set_title(f\"Displacement $t= {ii*time_step:.1f}$ [s]\")\n",
    "    return line1, line2, line3, line4\n",
    "\n",
    "anim = animation.FuncAnimation(fig, update, frames=range(0, n_times, step_animation), \\\n",
    "                               blit=True, interval=interval_frames)\n",
    "\n"
   ]
  },
  {
   "cell_type": "code",
   "execution_count": null,
   "metadata": {},
   "outputs": [],
   "source": [
    "HTML(anim.to_html5_video())"
   ]
  },
  {
   "cell_type": "code",
   "execution_count": null,
   "metadata": {},
   "outputs": [],
   "source": [
    "fig, ax = plt.subplots()\n",
    "line1, = ax.plot(coordinates, q_newmark_exp[0, :], label='Explicit Newmark')\n",
    "line2, = ax.plot(coordinates, q_newmark_imp[0, :], label='Implicit Newmark')\n",
    "\n",
    "ax.set_xlim(0, length)\n",
    "ax.set_ylim(-1.2, 1.2)\n",
    "ax.set_xlabel('$x$')\n",
    "ax.set_ylabel('$q$')\n",
    "ax.set_title('Displacement')\n",
    "ax.legend()\n",
    "ax.grid(True)\n",
    "plt.close()\n",
    "\n",
    "def update(ii):\n",
    "    line1.set_ydata(q_newmark_exp[ii, :])\n",
    "    line2.set_ydata(q_newmark_imp[ii, :])\n",
    "    ax.set_title(f\"Displacement $t= {ii*time_step:.1f}$ [s]\")\n",
    "    return line1, line2,\n",
    "\n",
    "\n",
    "anim = animation.FuncAnimation(fig, update, frames=range(0, n_times, step_animation), \\\n",
    "                               blit=True, interval=interval_frames)"
   ]
  },
  {
   "cell_type": "code",
   "execution_count": null,
   "metadata": {},
   "outputs": [],
   "source": [
    "HTML(anim.to_html5_video())"
   ]
  },
  {
   "cell_type": "markdown",
   "metadata": {},
   "source": [
    "Plot of the energy for the implicit and explicit scheme"
   ]
  },
  {
   "cell_type": "code",
   "execution_count": null,
   "metadata": {},
   "outputs": [],
   "source": [
    "energy_explicit = np.zeros(n_times+1)\n",
    "energy_implicit = np.zeros(n_times+1)\n",
    "\n",
    "for ii in range(1+n_times):\n",
    "    energy_explicit[ii] = 0.5 * np.dot(v_newmark_exp[ii], M @ v_newmark_exp[ii]) + \\\n",
    "                          0.5 * np.dot(q_newmark_exp[ii], K @ q_newmark_exp[ii])\n",
    "    \n",
    "    energy_implicit[ii] = 0.5 * np.dot(v_newmark_imp[ii], M @ v_newmark_imp[ii]) + \\\n",
    "                          0.5 * np.dot(q_newmark_imp[ii], K @ q_newmark_imp[ii])\n",
    "\n",
    "\n",
    "fig, ax = plt.subplots()\n",
    "ax.plot(time_instants, energy_explicit, label='Energy explicit')\n",
    "ax.plot(time_instants, energy_implicit, label='Energy implicit')\n",
    "ax.set_xlabel('$t$')\n",
    "ax.set_ylabel('$H$')\n",
    "ax.set_title('Energy')\n",
    "ax.legend()\n",
    "plt.show()\n"
   ]
  }
 ],
 "metadata": {
  "kernelspec": {
   "display_name": "Python 3 (ipykernel)",
   "language": "python",
   "name": "python3"
  },
  "language_info": {
   "codemirror_mode": {
    "name": "ipython",
    "version": 3
   },
   "file_extension": ".py",
   "mimetype": "text/x-python",
   "name": "python",
   "nbconvert_exporter": "python",
   "pygments_lexer": "ipython3",
   "version": "3.11.8"
  }
 },
 "nbformat": 4,
 "nbformat_minor": 4
}
